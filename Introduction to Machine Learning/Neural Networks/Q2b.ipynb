{
 "cells": [
  {
   "cell_type": "code",
   "execution_count": null,
   "id": "ecdb24ae",
   "metadata": {},
   "outputs": [],
   "source": [
    "# NAME: SHRUTHI PASUMARTHI\n",
    "#STUDENT ID: 801218392\n",
    "#QUESTION 2 B"
   ]
  },
  {
   "cell_type": "code",
   "execution_count": 1,
   "id": "2c691796",
   "metadata": {},
   "outputs": [
    {
     "data": {
      "text/plain": [
       "<torch._C.Generator at 0x2667ad4c530>"
      ]
     },
     "execution_count": 1,
     "metadata": {},
     "output_type": "execute_result"
    }
   ],
   "source": [
    "%matplotlib inline\n",
    "from matplotlib import pyplot as plt\n",
    "import numpy as np\n",
    "import torch\n",
    "from datetime import datetime\n",
    "\n",
    "torch.set_printoptions(edgeitems=2)\n",
    "torch.manual_seed(123)"
   ]
  },
  {
   "cell_type": "code",
   "execution_count": 2,
   "id": "b351e538",
   "metadata": {},
   "outputs": [],
   "source": [
    "class_names = ['airplane','automobile','bird','cat','deer',\n",
    "               'dog','frog','horse','ship','truck']"
   ]
  },
  {
   "cell_type": "code",
   "execution_count": 3,
   "id": "21e31fc0",
   "metadata": {},
   "outputs": [
    {
     "name": "stderr",
     "output_type": "stream",
     "text": [
      "C:\\Users\\Shruthi\\AppData\\Roaming\\Python\\Python39\\site-packages\\torchvision\\io\\image.py:13: UserWarning: Failed to load image Python extension: [WinError 127] The specified procedure could not be found\n",
      "  warn(f\"Failed to load image Python extension: {e}\")\n"
     ]
    }
   ],
   "source": [
    "from torchvision import datasets, transforms\n",
    "data_path = 'C:/Users/Shruthi/Documents/HWs/IML/hw6/data'\n",
    "# Here the training set is downloaded as cifar10\n",
    "\n",
    "cifar10 = datasets.CIFAR10(\n",
    "    data_path, train=True, download=False,\n",
    "    transform=transforms.Compose([\n",
    "        transforms.ToTensor(),\n",
    "        transforms.Normalize((0.4915, 0.4823, 0.4468),\n",
    "                             (0.2470, 0.2435, 0.2616))\n",
    "    ]))"
   ]
  },
  {
   "cell_type": "code",
   "execution_count": 4,
   "id": "617991c1",
   "metadata": {},
   "outputs": [],
   "source": [
    "# The validation set is downloaded as cifar10_val\n",
    "cifar10_val = datasets.CIFAR10(\n",
    "    data_path, train=False, download=False,\n",
    "    transform=transforms.Compose([\n",
    "        transforms.ToTensor(),\n",
    "        transforms.Normalize((0.4915, 0.4823, 0.4468),\n",
    "                             (0.2470, 0.2435, 0.2616))\n",
    "    ]))"
   ]
  },
  {
   "cell_type": "code",
   "execution_count": 5,
   "id": "a51a83a6",
   "metadata": {
    "scrolled": false
   },
   "outputs": [
    {
     "name": "stdout",
     "output_type": "stream",
     "text": [
      "09/12/2022 19:06:10 Epoch: 0, Loss: 2.224591\n",
      "09/12/2022 19:11:27 Epoch: 10, Loss: 0.988850\n",
      "09/12/2022 19:16:40 Epoch: 20, Loss: 1.064948\n",
      "09/12/2022 19:22:04 Epoch: 30, Loss: 0.723566\n",
      "09/12/2022 19:27:22 Epoch: 40, Loss: 0.866105\n",
      "09/12/2022 19:32:34 Epoch: 50, Loss: 1.015312\n",
      "09/12/2022 19:37:47 Epoch: 60, Loss: 1.715019\n",
      "09/12/2022 19:42:55 Epoch: 70, Loss: 0.759339\n",
      "09/12/2022 19:48:06 Epoch: 80, Loss: 0.853992\n",
      "09/12/2022 19:53:16 Epoch: 90, Loss: 0.394429\n",
      "09/12/2022 19:58:44 Epoch: 100, Loss: 0.637309\n",
      "09/12/2022 20:04:12 Epoch: 110, Loss: 0.839325\n",
      "09/12/2022 20:09:12 Epoch: 120, Loss: 0.838564\n",
      "09/12/2022 20:14:13 Epoch: 130, Loss: 0.846959\n",
      "09/12/2022 20:20:08 Epoch: 140, Loss: 0.646964\n",
      "09/12/2022 20:25:07 Epoch: 150, Loss: 0.657980\n",
      "09/12/2022 20:30:12 Epoch: 160, Loss: 1.016685\n",
      "09/12/2022 20:35:17 Epoch: 170, Loss: 0.458158\n",
      "09/12/2022 20:40:18 Epoch: 180, Loss: 0.574299\n",
      "09/12/2022 20:45:18 Epoch: 190, Loss: 0.565852\n",
      "09/12/2022 20:50:07 Epoch: 200, Loss: 0.696351\n",
      "09/12/2022 20:54:55 Epoch: 210, Loss: 0.900794\n",
      "09/12/2022 20:59:41 Epoch: 220, Loss: 0.550794\n",
      "09/12/2022 21:04:27 Epoch: 230, Loss: 0.426302\n",
      "09/12/2022 21:09:16 Epoch: 240, Loss: 1.096724\n",
      "09/12/2022 21:14:08 Epoch: 250, Loss: 1.017820\n",
      "09/12/2022 21:18:53 Epoch: 260, Loss: 1.175381\n",
      "09/12/2022 21:23:43 Epoch: 270, Loss: 0.671254\n",
      "09/12/2022 21:28:29 Epoch: 280, Loss: 0.526080\n",
      "09/12/2022 21:33:20 Epoch: 290, Loss: 0.719522\n",
      "09/12/2022 21:38:08 Epoch: 300, Loss: 0.600601\n"
     ]
    }
   ],
   "source": [
    "import torch\n",
    "import torch.nn as nn\n",
    "import torch.nn.functional as F\n",
    "import torch.optim as optim\n",
    "\n",
    "train_loader = torch.utils.data.DataLoader(cifar10, batch_size=64,\n",
    "                                           shuffle=True)\n",
    "\n",
    "class Net(nn.Module):\n",
    "    def __init__(self):\n",
    "        super(Net, self).__init__()\n",
    "        self.conv1 = nn.Conv2d(3, 16, kernel_size=3, padding=1)\n",
    "        self.conv2 = nn.Conv2d(16, 12, kernel_size=3, padding=1)\n",
    "        self.conv3 = nn.Conv2d(12, 8, kernel_size=3, padding=1)\n",
    "        self.fc1 = nn.Linear(8 * 4 * 4, 32)\n",
    "        self.fc2 = nn.Linear(32, 10)\n",
    "        \n",
    "    def forward(self, x):\n",
    "        out = F.max_pool2d(torch.relu(self.conv1(x)), 2)\n",
    "        out = F.max_pool2d(torch.relu(self.conv2(out)), 2)\n",
    "        out = F.max_pool2d(torch.relu(self.conv3(out)), 2)\n",
    "        out = out.view(-1, 8 * 4 * 4)\n",
    "        out = torch.tanh(self.fc1(out))\n",
    "        out = self.fc2(out)\n",
    "        return out\n",
    "    \n",
    "model = Net()\n",
    "\n",
    "learning_rate = 1e-2\n",
    "\n",
    "optimizer = optim.SGD(model.parameters(), lr=learning_rate)\n",
    "\n",
    "loss_fn = nn.CrossEntropyLoss()\n",
    "\n",
    "n_epochs = 300\n",
    "\n",
    "for epoch in range(n_epochs+1):\n",
    "    for imgs, labels in train_loader:\n",
    "        outputs = model(imgs)\n",
    "        loss = loss_fn(outputs, labels)\n",
    "                \n",
    "        optimizer.zero_grad()\n",
    "        loss.backward()\n",
    "        optimizer.step()\n",
    "\n",
    "    if epoch == 0 or epoch % 10 == 0:\n",
    "        now = datetime.now()\n",
    "        dt_string = now.strftime(\"%d/%m/%Y %H:%M:%S\")\n",
    "        print(dt_string, \"Epoch: %d, Loss: %f\" % (epoch, float(loss)))"
   ]
  },
  {
   "cell_type": "code",
   "execution_count": 6,
   "id": "c0adff19",
   "metadata": {},
   "outputs": [
    {
     "name": "stdout",
     "output_type": "stream",
     "text": [
      "Accuracy: 0.749980\n"
     ]
    }
   ],
   "source": [
    "train_loader = torch.utils.data.DataLoader(cifar10, batch_size=64,\n",
    "                                           shuffle=False)\n",
    "\n",
    "correct = 0\n",
    "total = 0\n",
    "\n",
    "with torch.no_grad():\n",
    "    for imgs, labels in train_loader:\n",
    "        outputs = model(imgs)\n",
    "        _, predicted = torch.max(outputs, dim=1)\n",
    "        total += labels.shape[0]\n",
    "        correct += int((predicted == labels).sum())\n",
    "        \n",
    "print(\"Accuracy: %f\" % (correct / total))\n"
   ]
  }
 ],
 "metadata": {
  "kernelspec": {
   "display_name": "Python 3 (ipykernel)",
   "language": "python",
   "name": "python3"
  },
  "language_info": {
   "codemirror_mode": {
    "name": "ipython",
    "version": 3
   },
   "file_extension": ".py",
   "mimetype": "text/x-python",
   "name": "python",
   "nbconvert_exporter": "python",
   "pygments_lexer": "ipython3",
   "version": "3.9.13"
  }
 },
 "nbformat": 4,
 "nbformat_minor": 5
}
