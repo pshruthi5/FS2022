{
 "cells": [
  {
   "cell_type": "code",
   "execution_count": null,
   "id": "ecdb24ae",
   "metadata": {},
   "outputs": [],
   "source": [
    "# NAME: SHRUTHI PASUMARTHI\n",
    "#STUDENT ID: 801218392\n",
    "#QUESTION 2 A"
   ]
  },
  {
   "cell_type": "code",
   "execution_count": 1,
   "id": "2c691796",
   "metadata": {},
   "outputs": [
    {
     "data": {
      "text/plain": [
       "<torch._C.Generator at 0x171a45e0530>"
      ]
     },
     "execution_count": 1,
     "metadata": {},
     "output_type": "execute_result"
    }
   ],
   "source": [
    "%matplotlib inline\n",
    "from matplotlib import pyplot as plt\n",
    "import numpy as np\n",
    "import torch\n",
    "from datetime import datetime\n",
    "\n",
    "torch.set_printoptions(edgeitems=2)\n",
    "torch.manual_seed(123)"
   ]
  },
  {
   "cell_type": "code",
   "execution_count": 2,
   "id": "b351e538",
   "metadata": {},
   "outputs": [],
   "source": [
    "class_names = ['airplane','automobile','bird','cat','deer',\n",
    "               'dog','frog','horse','ship','truck']"
   ]
  },
  {
   "cell_type": "code",
   "execution_count": 3,
   "id": "21e31fc0",
   "metadata": {},
   "outputs": [
    {
     "name": "stderr",
     "output_type": "stream",
     "text": [
      "C:\\Users\\Shruthi\\AppData\\Roaming\\Python\\Python39\\site-packages\\torchvision\\io\\image.py:13: UserWarning: Failed to load image Python extension: [WinError 127] The specified procedure could not be found\n",
      "  warn(f\"Failed to load image Python extension: {e}\")\n"
     ]
    }
   ],
   "source": [
    "from torchvision import datasets, transforms\n",
    "data_path = 'C:/Users/Shruthi/Documents/HWs/IML/hw6/data'\n",
    "# Here the training set is downloaded as cifar10\n",
    "\n",
    "cifar10 = datasets.CIFAR10(\n",
    "    data_path, train=True, download=False,\n",
    "    transform=transforms.Compose([\n",
    "        transforms.ToTensor(),\n",
    "        transforms.Normalize((0.4915, 0.4823, 0.4468),\n",
    "                             (0.2470, 0.2435, 0.2616))\n",
    "    ]))"
   ]
  },
  {
   "cell_type": "code",
   "execution_count": 4,
   "id": "617991c1",
   "metadata": {},
   "outputs": [],
   "source": [
    "# The validation set is downloaded as cifar10_val\n",
    "cifar10_val = datasets.CIFAR10(\n",
    "    data_path, train=False, download=False,\n",
    "    transform=transforms.Compose([\n",
    "        transforms.ToTensor(),\n",
    "        transforms.Normalize((0.4915, 0.4823, 0.4468),\n",
    "                             (0.2470, 0.2435, 0.2616))\n",
    "    ]))"
   ]
  },
  {
   "cell_type": "code",
   "execution_count": 5,
   "id": "a51a83a6",
   "metadata": {
    "scrolled": false
   },
   "outputs": [
    {
     "name": "stdout",
     "output_type": "stream",
     "text": [
      "09/12/2022 16:20:30 Epoch: 0, Loss: 1.726280\n",
      "09/12/2022 16:25:15 Epoch: 10, Loss: 1.236104\n",
      "09/12/2022 16:29:58 Epoch: 20, Loss: 0.955580\n",
      "09/12/2022 16:34:29 Epoch: 30, Loss: 0.896548\n",
      "09/12/2022 16:38:56 Epoch: 40, Loss: 0.369287\n",
      "09/12/2022 16:43:24 Epoch: 50, Loss: 0.630693\n",
      "09/12/2022 16:47:49 Epoch: 60, Loss: 1.261155\n",
      "09/12/2022 16:52:16 Epoch: 70, Loss: 1.314162\n",
      "09/12/2022 16:56:47 Epoch: 80, Loss: 0.496648\n",
      "09/12/2022 17:01:17 Epoch: 90, Loss: 0.508200\n",
      "09/12/2022 17:05:43 Epoch: 100, Loss: 0.808376\n",
      "09/12/2022 17:10:10 Epoch: 110, Loss: 1.312326\n",
      "09/12/2022 17:14:35 Epoch: 120, Loss: 0.540730\n",
      "09/12/2022 17:18:58 Epoch: 130, Loss: 0.689347\n",
      "09/12/2022 17:23:25 Epoch: 140, Loss: 1.002603\n",
      "09/12/2022 17:27:51 Epoch: 150, Loss: 0.608997\n",
      "09/12/2022 17:32:17 Epoch: 160, Loss: 0.717593\n",
      "09/12/2022 17:36:40 Epoch: 170, Loss: 0.323345\n",
      "09/12/2022 17:41:07 Epoch: 180, Loss: 0.562225\n",
      "09/12/2022 17:45:33 Epoch: 190, Loss: 0.653944\n",
      "09/12/2022 17:49:58 Epoch: 200, Loss: 0.785235\n",
      "09/12/2022 17:54:23 Epoch: 210, Loss: 0.632621\n",
      "09/12/2022 17:58:50 Epoch: 220, Loss: 0.319003\n",
      "09/12/2022 18:03:15 Epoch: 230, Loss: 0.319638\n",
      "09/12/2022 18:07:41 Epoch: 240, Loss: 0.452472\n",
      "09/12/2022 18:12:08 Epoch: 250, Loss: 0.782874\n",
      "09/12/2022 18:16:29 Epoch: 260, Loss: 0.657605\n",
      "09/12/2022 18:20:55 Epoch: 270, Loss: 0.706269\n",
      "09/12/2022 18:25:22 Epoch: 280, Loss: 1.052292\n",
      "09/12/2022 18:29:50 Epoch: 290, Loss: 0.514828\n",
      "09/12/2022 18:34:16 Epoch: 300, Loss: 0.365122\n"
     ]
    }
   ],
   "source": [
    "import torch\n",
    "import torch.nn as nn\n",
    "import torch.nn.functional as F\n",
    "import torch.optim as optim\n",
    "\n",
    "train_loader = torch.utils.data.DataLoader(cifar10, batch_size=64,\n",
    "                                           shuffle=True)\n",
    "\n",
    "class Net(nn.Module):\n",
    "    def __init__(self):\n",
    "        super(Net, self).__init__()\n",
    "        self.conv1 = nn.Conv2d(3, 16, kernel_size=3, padding=1)\n",
    "        self.conv2 = nn.Conv2d(16, 8, kernel_size=3, padding=1)\n",
    "        self.fc1 = nn.Linear(8 * 8 * 8, 32)\n",
    "        self.fc2 = nn.Linear(32, 10)\n",
    "        \n",
    "    def forward(self, x):\n",
    "        out = F.max_pool2d(torch.relu(self.conv1(x)), 2)\n",
    "        out = F.max_pool2d(torch.relu(self.conv2(out)), 2)\n",
    "        out = out.view(-1, 8 * 8 * 8)\n",
    "        out = torch.tanh(self.fc1(out))\n",
    "        out = self.fc2(out)\n",
    "        return out\n",
    "    \n",
    "model = Net()\n",
    "\n",
    "learning_rate = 1e-2\n",
    "\n",
    "optimizer = optim.SGD(model.parameters(), lr=learning_rate)\n",
    "\n",
    "loss_fn = nn.CrossEntropyLoss()\n",
    "\n",
    "n_epochs = 300\n",
    "\n",
    "for epoch in range(n_epochs+1):\n",
    "    for imgs, labels in train_loader:\n",
    "        outputs = model(imgs)\n",
    "        loss = loss_fn(outputs, labels)\n",
    "                \n",
    "        optimizer.zero_grad()\n",
    "        loss.backward()\n",
    "        optimizer.step()\n",
    "\n",
    "    if epoch == 0 or epoch % 10 == 0:\n",
    "        now = datetime.now()\n",
    "        dt_string = now.strftime(\"%d/%m/%Y %H:%M:%S\")\n",
    "        print(dt_string, \"Epoch: %d, Loss: %f\" % (epoch, float(loss)))"
   ]
  },
  {
   "cell_type": "code",
   "execution_count": 10,
   "id": "c0adff19",
   "metadata": {},
   "outputs": [
    {
     "name": "stdout",
     "output_type": "stream",
     "text": [
      "Accuracy: 0.814600\n"
     ]
    }
   ],
   "source": [
    "train_loader = torch.utils.data.DataLoader(cifar10, batch_size=64,\n",
    "                                           shuffle=False)\n",
    "\n",
    "correct = 0\n",
    "total = 0\n",
    "\n",
    "with torch.no_grad():\n",
    "    for imgs, labels in train_loader:\n",
    "        outputs = model(imgs)\n",
    "        _, predicted = torch.max(outputs, dim=1)\n",
    "        total += labels.shape[0]\n",
    "        correct += int((predicted == labels).sum())\n",
    "        \n",
    "print(\"Accuracy: %f\" % (correct / total))\n"
   ]
  }
 ],
 "metadata": {
  "kernelspec": {
   "display_name": "Python 3 (ipykernel)",
   "language": "python",
   "name": "python3"
  },
  "language_info": {
   "codemirror_mode": {
    "name": "ipython",
    "version": 3
   },
   "file_extension": ".py",
   "mimetype": "text/x-python",
   "name": "python",
   "nbconvert_exporter": "python",
   "pygments_lexer": "ipython3",
   "version": "3.9.13"
  }
 },
 "nbformat": 4,
 "nbformat_minor": 5
}
