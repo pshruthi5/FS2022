{
 "cells": [
  {
   "cell_type": "code",
   "execution_count": null,
   "id": "ecdb24ae",
   "metadata": {},
   "outputs": [],
   "source": [
    "# NAME: SHRUTHI PASUMARTHI\n",
    "#STUDENT ID: 801218392\n",
    "#QUESTION 1 A"
   ]
  },
  {
   "cell_type": "code",
   "execution_count": 1,
   "id": "2c691796",
   "metadata": {},
   "outputs": [
    {
     "data": {
      "text/plain": [
       "<torch._C.Generator at 0x1ae61022530>"
      ]
     },
     "execution_count": 1,
     "metadata": {},
     "output_type": "execute_result"
    }
   ],
   "source": [
    "%matplotlib inline\n",
    "from matplotlib import pyplot as plt\n",
    "import numpy as np\n",
    "import torch\n",
    "from datetime import datetime\n",
    "\n",
    "torch.set_printoptions(edgeitems=2)\n",
    "torch.manual_seed(123)"
   ]
  },
  {
   "cell_type": "code",
   "execution_count": 2,
   "id": "b351e538",
   "metadata": {},
   "outputs": [],
   "source": [
    "class_names = ['airplane','automobile','bird','cat','deer',\n",
    "               'dog','frog','horse','ship','truck']"
   ]
  },
  {
   "cell_type": "code",
   "execution_count": 3,
   "id": "21e31fc0",
   "metadata": {},
   "outputs": [
    {
     "name": "stderr",
     "output_type": "stream",
     "text": [
      "C:\\Users\\Shruthi\\AppData\\Roaming\\Python\\Python39\\site-packages\\torchvision\\io\\image.py:13: UserWarning: Failed to load image Python extension: [WinError 127] The specified procedure could not be found\n",
      "  warn(f\"Failed to load image Python extension: {e}\")\n"
     ]
    },
    {
     "name": "stdout",
     "output_type": "stream",
     "text": [
      "Files already downloaded and verified\n"
     ]
    }
   ],
   "source": [
    "from torchvision import datasets, transforms\n",
    "data_path = 'C:/Users/Shruthi/Documents/HWs/IML/hw6/data'\n",
    "# Here the training set is downloaded as cifar10\n",
    "\n",
    "cifar10 = datasets.CIFAR10(\n",
    "    data_path, train=True, download=True,\n",
    "    transform=transforms.Compose([\n",
    "        transforms.ToTensor(),\n",
    "        transforms.Normalize((0.4915, 0.4823, 0.4468),\n",
    "                             (0.2470, 0.2435, 0.2616))\n",
    "    ]))"
   ]
  },
  {
   "cell_type": "code",
   "execution_count": 4,
   "id": "617991c1",
   "metadata": {},
   "outputs": [],
   "source": [
    "# The validation set is downloaded as cifar10_val\n",
    "cifar10_val = datasets.CIFAR10(\n",
    "    data_path, train=False, download=False,\n",
    "    transform=transforms.Compose([\n",
    "        transforms.ToTensor(),\n",
    "        transforms.Normalize((0.4915, 0.4823, 0.4468),\n",
    "                             (0.2470, 0.2435, 0.2616))\n",
    "    ]))"
   ]
  },
  {
   "cell_type": "code",
   "execution_count": 5,
   "id": "52a30ead",
   "metadata": {},
   "outputs": [],
   "source": [
    "#The training set is defined as train_loader\n",
    "train_loader = torch.utils.data.DataLoader(cifar10, batch_size = 64,\n",
    "                                           shuffle=False)"
   ]
  },
  {
   "cell_type": "code",
   "execution_count": 6,
   "id": "8a71a4dc",
   "metadata": {},
   "outputs": [],
   "source": [
    "#The validation set is defined as val_loader\n",
    "val_loader = torch.utils.data.DataLoader(cifar10_val, batch_size=64,\n",
    "                                         shuffle=False)"
   ]
  },
  {
   "cell_type": "code",
   "execution_count": 7,
   "id": "a51a83a6",
   "metadata": {
    "scrolled": false
   },
   "outputs": [
    {
     "name": "stdout",
     "output_type": "stream",
     "text": [
      "07/12/2022 10:14:45 Epoch: 0, Loss: 1.855314\n",
      "07/12/2022 10:53:41 Epoch: 10, Loss: 1.614090\n",
      "07/12/2022 11:29:51 Epoch: 20, Loss: 3.048111\n",
      "07/12/2022 12:06:41 Epoch: 30, Loss: 3.315117\n",
      "07/12/2022 13:07:59 Epoch: 40, Loss: 5.670690\n",
      "07/12/2022 13:57:26 Epoch: 50, Loss: 1.368143\n",
      "07/12/2022 14:42:52 Epoch: 60, Loss: 2.425118\n",
      "07/12/2022 15:27:46 Epoch: 70, Loss: 3.436382\n",
      "07/12/2022 16:14:36 Epoch: 80, Loss: 2.677286\n",
      "07/12/2022 17:00:03 Epoch: 90, Loss: 8.420537\n",
      "07/12/2022 17:46:18 Epoch: 100, Loss: 0.195058\n",
      "07/12/2022 18:32:24 Epoch: 110, Loss: 0.050487\n",
      "07/12/2022 19:18:04 Epoch: 120, Loss: 0.378775\n",
      "07/12/2022 20:03:17 Epoch: 130, Loss: 0.027762\n",
      "07/12/2022 20:49:33 Epoch: 140, Loss: 1.945568\n",
      "07/12/2022 21:36:18 Epoch: 150, Loss: 4.326424\n",
      "07/12/2022 22:21:08 Epoch: 160, Loss: 2.576412\n",
      "07/12/2022 23:06:49 Epoch: 170, Loss: 0.560747\n",
      "07/12/2022 23:55:10 Epoch: 180, Loss: 5.586601\n",
      "08/12/2022 00:40:34 Epoch: 190, Loss: 7.662932\n",
      "08/12/2022 01:26:26 Epoch: 200, Loss: 1.547397\n",
      "08/12/2022 02:10:43 Epoch: 210, Loss: 5.315753\n",
      "08/12/2022 02:54:22 Epoch: 220, Loss: 4.672951\n",
      "08/12/2022 03:39:00 Epoch: 230, Loss: 0.443330\n",
      "08/12/2022 04:22:58 Epoch: 240, Loss: 2.814744\n",
      "08/12/2022 05:07:50 Epoch: 250, Loss: 7.876497\n",
      "08/12/2022 05:52:06 Epoch: 260, Loss: 1.682196\n",
      "08/12/2022 06:36:04 Epoch: 270, Loss: 4.545235\n",
      "08/12/2022 07:21:07 Epoch: 280, Loss: 0.066204\n",
      "08/12/2022 08:05:24 Epoch: 290, Loss: 1.021372\n"
     ]
    }
   ],
   "source": [
    "import torch\n",
    "import torch.nn as nn\n",
    "import torch.optim as optim\n",
    "\n",
    "# The first model with one hidden layer\n",
    "\n",
    "model = nn.Sequential(\n",
    "            nn.Linear(3072, 512),\n",
    "            nn.Tanh(),\n",
    "            nn.Linear(512, 10), \n",
    "            nn.LogSoftmax(dim=1)\n",
    "        )\n",
    "\n",
    "\n",
    "learning_rate = 1e-2\n",
    "\n",
    "optimizer = optim.SGD(model.parameters(), lr=learning_rate)\n",
    "\n",
    "loss_fn = nn.NLLLoss()\n",
    "\n",
    "n_epochs = 300\n",
    "\n",
    "for epoch in range(n_epochs):\n",
    "    for img, label in cifar10:\n",
    "        out = model(img.view(-1).unsqueeze(0))\n",
    "        loss = loss_fn(out, torch.tensor([label]))\n",
    "                \n",
    "        optimizer.zero_grad()\n",
    "        loss.backward()\n",
    "        optimizer.step()\n",
    "\n",
    "    if epoch == 0 or epoch % 10 == 0:\n",
    "        now = datetime.now()\n",
    "        dt_string = now.strftime(\"%d/%m/%Y %H:%M:%S\")\n",
    "        print(dt_string, \"Epoch: %d, Loss: %f\" % (epoch, float(loss)))\n"
   ]
  },
  {
   "cell_type": "code",
   "execution_count": 8,
   "id": "c0adff19",
   "metadata": {},
   "outputs": [
    {
     "name": "stdout",
     "output_type": "stream",
     "text": [
      "Accuracy: 0.513600\n"
     ]
    }
   ],
   "source": [
    "train_loader = torch.utils.data.DataLoader(cifar10, batch_size=64,\n",
    "                                           shuffle=False)\n",
    "\n",
    "correct = 0\n",
    "total = 0\n",
    "\n",
    "with torch.no_grad():\n",
    "    for imgs, labels in train_loader:\n",
    "        outputs = model(imgs.view(imgs.shape[0], -1))\n",
    "        _, predicted = torch.max(outputs, dim=1)\n",
    "        total += labels.shape[0]\n",
    "        correct += int((predicted == labels).sum())\n",
    "        \n",
    "print(\"Accuracy: %f\" % (correct / total))\n"
   ]
  }
 ],
 "metadata": {
  "kernelspec": {
   "display_name": "Python 3 (ipykernel)",
   "language": "python",
   "name": "python3"
  },
  "language_info": {
   "codemirror_mode": {
    "name": "ipython",
    "version": 3
   },
   "file_extension": ".py",
   "mimetype": "text/x-python",
   "name": "python",
   "nbconvert_exporter": "python",
   "pygments_lexer": "ipython3",
   "version": "3.9.13"
  }
 },
 "nbformat": 4,
 "nbformat_minor": 5
}
