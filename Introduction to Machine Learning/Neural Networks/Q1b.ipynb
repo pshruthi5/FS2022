{
 "cells": [
  {
   "cell_type": "code",
   "execution_count": null,
   "id": "ecdb24ae",
   "metadata": {},
   "outputs": [],
   "source": [
    "# NAME: SHRUTHI PASUMARTHI\n",
    "#STUDENT ID: 801218392\n",
    "#QUESTION 1 B"
   ]
  },
  {
   "cell_type": "code",
   "execution_count": 1,
   "id": "2c691796",
   "metadata": {},
   "outputs": [
    {
     "data": {
      "text/plain": [
       "<torch._C.Generator at 0x194ef0204f0>"
      ]
     },
     "execution_count": 1,
     "metadata": {},
     "output_type": "execute_result"
    }
   ],
   "source": [
    "%matplotlib inline\n",
    "from matplotlib import pyplot as plt\n",
    "import numpy as np\n",
    "import torch\n",
    "from datetime import datetime\n",
    "\n",
    "torch.set_printoptions(edgeitems=2)\n",
    "torch.manual_seed(123)"
   ]
  },
  {
   "cell_type": "code",
   "execution_count": 2,
   "id": "b351e538",
   "metadata": {},
   "outputs": [],
   "source": [
    "class_names = ['airplane','automobile','bird','cat','deer',\n",
    "               'dog','frog','horse','ship','truck']"
   ]
  },
  {
   "cell_type": "code",
   "execution_count": 3,
   "id": "21e31fc0",
   "metadata": {},
   "outputs": [
    {
     "name": "stderr",
     "output_type": "stream",
     "text": [
      "C:\\Users\\Shruthi\\AppData\\Roaming\\Python\\Python39\\site-packages\\torchvision\\io\\image.py:13: UserWarning: Failed to load image Python extension: [WinError 127] The specified procedure could not be found\n",
      "  warn(f\"Failed to load image Python extension: {e}\")\n"
     ]
    }
   ],
   "source": [
    "from torchvision import datasets, transforms\n",
    "data_path = 'C:/Users/Shruthi/Documents/HWs/IML/hw6/data'\n",
    "# Here the training set is downloaded as cifar10\n",
    "\n",
    "cifar10 = datasets.CIFAR10(\n",
    "    data_path, train=True, download=False,\n",
    "    transform=transforms.Compose([\n",
    "        transforms.ToTensor(),\n",
    "        transforms.Normalize((0.4915, 0.4823, 0.4468),\n",
    "                             (0.2470, 0.2435, 0.2616))\n",
    "    ]))"
   ]
  },
  {
   "cell_type": "code",
   "execution_count": 4,
   "id": "617991c1",
   "metadata": {},
   "outputs": [],
   "source": [
    "# The validation set is downloaded as cifar10_val\n",
    "cifar10_val = datasets.CIFAR10(\n",
    "    data_path, train=False, download=False,\n",
    "    transform=transforms.Compose([\n",
    "        transforms.ToTensor(),\n",
    "        transforms.Normalize((0.4915, 0.4823, 0.4468),\n",
    "                             (0.2470, 0.2435, 0.2616))\n",
    "    ]))"
   ]
  },
  {
   "cell_type": "code",
   "execution_count": 5,
   "id": "52a30ead",
   "metadata": {},
   "outputs": [],
   "source": [
    "#The training set is defined as train_loader\n",
    "train_loader = torch.utils.data.DataLoader(cifar10, batch_size = 64,\n",
    "                                           shuffle=False)"
   ]
  },
  {
   "cell_type": "code",
   "execution_count": 6,
   "id": "8a71a4dc",
   "metadata": {},
   "outputs": [],
   "source": [
    "#The validation set is defined as val_loader\n",
    "val_loader = torch.utils.data.DataLoader(cifar10_val, batch_size=64,\n",
    "                                         shuffle=False)"
   ]
  },
  {
   "cell_type": "code",
   "execution_count": 7,
   "id": "a51a83a6",
   "metadata": {
    "scrolled": false
   },
   "outputs": [
    {
     "name": "stdout",
     "output_type": "stream",
     "text": [
      "08/12/2022 12:38:48 Epoch: 0, Loss: 3.180832\n",
      "08/12/2022 13:27:34 Epoch: 10, Loss: 4.534781\n",
      "08/12/2022 14:18:30 Epoch: 20, Loss: 2.591227\n",
      "08/12/2022 15:10:09 Epoch: 30, Loss: 4.807370\n",
      "08/12/2022 16:03:06 Epoch: 40, Loss: 4.100662\n",
      "08/12/2022 16:54:13 Epoch: 50, Loss: 3.836330\n",
      "08/12/2022 17:43:48 Epoch: 60, Loss: 2.540075\n",
      "08/12/2022 18:32:48 Epoch: 70, Loss: 4.119983\n",
      "08/12/2022 19:23:12 Epoch: 80, Loss: 4.333663\n",
      "08/12/2022 20:13:37 Epoch: 90, Loss: 4.155744\n",
      "08/12/2022 21:02:26 Epoch: 100, Loss: 3.559310\n",
      "08/12/2022 21:53:19 Epoch: 110, Loss: 2.095897\n",
      "08/12/2022 22:44:15 Epoch: 120, Loss: 4.335873\n",
      "08/12/2022 23:34:19 Epoch: 130, Loss: 2.699367\n",
      "09/12/2022 00:25:20 Epoch: 140, Loss: 2.806054\n",
      "09/12/2022 01:15:58 Epoch: 150, Loss: 1.493878\n",
      "09/12/2022 02:06:02 Epoch: 160, Loss: 3.359900\n",
      "09/12/2022 02:55:26 Epoch: 170, Loss: 1.328104\n",
      "09/12/2022 03:44:27 Epoch: 180, Loss: 4.296848\n",
      "09/12/2022 04:33:47 Epoch: 190, Loss: 2.001209\n",
      "09/12/2022 05:22:45 Epoch: 200, Loss: 2.381768\n",
      "09/12/2022 06:12:08 Epoch: 210, Loss: 3.218400\n",
      "09/12/2022 07:01:22 Epoch: 220, Loss: 3.656846\n",
      "09/12/2022 07:50:23 Epoch: 230, Loss: 3.935408\n",
      "09/12/2022 08:49:01 Epoch: 240, Loss: 1.928966\n",
      "09/12/2022 09:42:59 Epoch: 250, Loss: 1.655739\n",
      "09/12/2022 10:53:10 Epoch: 260, Loss: 4.866101\n",
      "09/12/2022 12:09:55 Epoch: 270, Loss: 3.333738\n",
      "09/12/2022 13:01:51 Epoch: 280, Loss: 2.306449\n",
      "09/12/2022 13:53:23 Epoch: 290, Loss: 2.309190\n",
      "09/12/2022 14:50:56 Epoch: 300, Loss: 2.911254\n"
     ]
    }
   ],
   "source": [
    "import torch\n",
    "import torch.nn as nn\n",
    "import torch.optim as optim\n",
    "\n",
    "# The first model with one hidden layer\n",
    "\n",
    "model = nn.Sequential(\n",
    "            nn.Linear(3072, 512),\n",
    "            nn.Tanh(),\n",
    "            nn.Linear(512, 256), \n",
    "            nn.Tanh(), \n",
    "            nn.Linear(256, 64), \n",
    "            nn.Tanh(), \n",
    "            nn.Linear(64,10),\n",
    "            nn.LogSoftmax(dim=1)\n",
    "        )\n",
    "\n",
    "\n",
    "learning_rate = 1e-2\n",
    "\n",
    "optimizer = optim.SGD(model.parameters(), lr=learning_rate)\n",
    "\n",
    "loss_fn = nn.NLLLoss()\n",
    "\n",
    "n_epochs = 300\n",
    "\n",
    "for epoch in range(n_epochs+1):\n",
    "    for img, label in cifar10:\n",
    "        out = model(img.view(-1).unsqueeze(0))\n",
    "        loss = loss_fn(out, torch.tensor([label]))\n",
    "                \n",
    "        optimizer.zero_grad()\n",
    "        loss.backward()\n",
    "        optimizer.step()\n",
    "\n",
    "    if epoch == 0 or epoch % 10 == 0:\n",
    "        now = datetime.now()\n",
    "        dt_string = now.strftime(\"%d/%m/%Y %H:%M:%S\")\n",
    "        print(dt_string, \"Epoch: %d, Loss: %f\" % (epoch, float(loss)))\n"
   ]
  },
  {
   "cell_type": "code",
   "execution_count": 8,
   "id": "c0adff19",
   "metadata": {},
   "outputs": [
    {
     "name": "stdout",
     "output_type": "stream",
     "text": [
      "Accuracy: 0.468400\n"
     ]
    }
   ],
   "source": [
    "train_loader = torch.utils.data.DataLoader(cifar10, batch_size=64,\n",
    "                                           shuffle=False)\n",
    "\n",
    "correct = 0\n",
    "total = 0\n",
    "\n",
    "with torch.no_grad():\n",
    "    for imgs, labels in train_loader:\n",
    "        outputs = model(imgs.view(imgs.shape[0], -1))\n",
    "        _, predicted = torch.max(outputs, dim=1)\n",
    "        total += labels.shape[0]\n",
    "        correct += int((predicted == labels).sum())\n",
    "        \n",
    "print(\"Accuracy: %f\" % (correct / total))\n"
   ]
  }
 ],
 "metadata": {
  "kernelspec": {
   "display_name": "Python 3 (ipykernel)",
   "language": "python",
   "name": "python3"
  },
  "language_info": {
   "codemirror_mode": {
    "name": "ipython",
    "version": 3
   },
   "file_extension": ".py",
   "mimetype": "text/x-python",
   "name": "python",
   "nbconvert_exporter": "python",
   "pygments_lexer": "ipython3",
   "version": "3.9.13"
  }
 },
 "nbformat": 4,
 "nbformat_minor": 5
}
