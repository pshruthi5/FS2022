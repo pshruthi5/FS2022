{
 "cells": [
  {
   "cell_type": "code",
   "execution_count": 1,
   "id": "c7152fe8",
   "metadata": {},
   "outputs": [],
   "source": [
    "# NAME: SHRUTHI PASUMARTHI\n",
    "# STUDENT ID: 801218392\n",
    "# HOMEWORK1 QUESTION 1 B"
   ]
  },
  {
   "cell_type": "code",
   "execution_count": 2,
   "id": "524c4b78",
   "metadata": {},
   "outputs": [],
   "source": [
    "import numpy as np\n",
    "import pandas as pd\n",
    "\n",
    "import matplotlib.pyplot as plt\n",
    "import seaborn as sns"
   ]
  },
  {
   "cell_type": "code",
   "execution_count": 3,
   "id": "fb3ac563",
   "metadata": {},
   "outputs": [
    {
     "data": {
      "text/html": [
       "<div>\n",
       "<style scoped>\n",
       "    .dataframe tbody tr th:only-of-type {\n",
       "        vertical-align: middle;\n",
       "    }\n",
       "\n",
       "    .dataframe tbody tr th {\n",
       "        vertical-align: top;\n",
       "    }\n",
       "\n",
       "    .dataframe thead th {\n",
       "        text-align: right;\n",
       "    }\n",
       "</style>\n",
       "<table border=\"1\" class=\"dataframe\">\n",
       "  <thead>\n",
       "    <tr style=\"text-align: right;\">\n",
       "      <th></th>\n",
       "      <th>price</th>\n",
       "      <th>area</th>\n",
       "      <th>bedrooms</th>\n",
       "      <th>bathrooms</th>\n",
       "      <th>stories</th>\n",
       "      <th>mainroad</th>\n",
       "      <th>guestroom</th>\n",
       "      <th>basement</th>\n",
       "      <th>hotwaterheating</th>\n",
       "      <th>airconditioning</th>\n",
       "      <th>parking</th>\n",
       "      <th>prefarea</th>\n",
       "      <th>furnishingstatus</th>\n",
       "    </tr>\n",
       "  </thead>\n",
       "  <tbody>\n",
       "    <tr>\n",
       "      <th>0</th>\n",
       "      <td>13300000</td>\n",
       "      <td>7420</td>\n",
       "      <td>4</td>\n",
       "      <td>2</td>\n",
       "      <td>3</td>\n",
       "      <td>yes</td>\n",
       "      <td>no</td>\n",
       "      <td>no</td>\n",
       "      <td>no</td>\n",
       "      <td>yes</td>\n",
       "      <td>2</td>\n",
       "      <td>yes</td>\n",
       "      <td>furnished</td>\n",
       "    </tr>\n",
       "    <tr>\n",
       "      <th>1</th>\n",
       "      <td>12250000</td>\n",
       "      <td>8960</td>\n",
       "      <td>4</td>\n",
       "      <td>4</td>\n",
       "      <td>4</td>\n",
       "      <td>yes</td>\n",
       "      <td>no</td>\n",
       "      <td>no</td>\n",
       "      <td>no</td>\n",
       "      <td>yes</td>\n",
       "      <td>3</td>\n",
       "      <td>no</td>\n",
       "      <td>furnished</td>\n",
       "    </tr>\n",
       "    <tr>\n",
       "      <th>2</th>\n",
       "      <td>12250000</td>\n",
       "      <td>9960</td>\n",
       "      <td>3</td>\n",
       "      <td>2</td>\n",
       "      <td>2</td>\n",
       "      <td>yes</td>\n",
       "      <td>no</td>\n",
       "      <td>yes</td>\n",
       "      <td>no</td>\n",
       "      <td>no</td>\n",
       "      <td>2</td>\n",
       "      <td>yes</td>\n",
       "      <td>semi-furnished</td>\n",
       "    </tr>\n",
       "    <tr>\n",
       "      <th>3</th>\n",
       "      <td>12215000</td>\n",
       "      <td>7500</td>\n",
       "      <td>4</td>\n",
       "      <td>2</td>\n",
       "      <td>2</td>\n",
       "      <td>yes</td>\n",
       "      <td>no</td>\n",
       "      <td>yes</td>\n",
       "      <td>no</td>\n",
       "      <td>yes</td>\n",
       "      <td>3</td>\n",
       "      <td>yes</td>\n",
       "      <td>furnished</td>\n",
       "    </tr>\n",
       "    <tr>\n",
       "      <th>4</th>\n",
       "      <td>11410000</td>\n",
       "      <td>7420</td>\n",
       "      <td>4</td>\n",
       "      <td>1</td>\n",
       "      <td>2</td>\n",
       "      <td>yes</td>\n",
       "      <td>yes</td>\n",
       "      <td>yes</td>\n",
       "      <td>no</td>\n",
       "      <td>yes</td>\n",
       "      <td>2</td>\n",
       "      <td>no</td>\n",
       "      <td>furnished</td>\n",
       "    </tr>\n",
       "  </tbody>\n",
       "</table>\n",
       "</div>"
      ],
      "text/plain": [
       "      price  area  bedrooms  bathrooms  stories mainroad guestroom basement  \\\n",
       "0  13300000  7420         4          2        3      yes        no       no   \n",
       "1  12250000  8960         4          4        4      yes        no       no   \n",
       "2  12250000  9960         3          2        2      yes        no      yes   \n",
       "3  12215000  7500         4          2        2      yes        no      yes   \n",
       "4  11410000  7420         4          1        2      yes       yes      yes   \n",
       "\n",
       "  hotwaterheating airconditioning  parking prefarea furnishingstatus  \n",
       "0              no             yes        2      yes        furnished  \n",
       "1              no             yes        3       no        furnished  \n",
       "2              no              no        2      yes   semi-furnished  \n",
       "3              no             yes        3      yes        furnished  \n",
       "4              no             yes        2       no        furnished  "
      ]
     },
     "execution_count": 3,
     "metadata": {},
     "output_type": "execute_result"
    }
   ],
   "source": [
    "housing = pd.DataFrame(pd.read_csv(\"Housing.csv\"))\n",
    "housing.head()"
   ]
  },
  {
   "cell_type": "code",
   "execution_count": 4,
   "id": "deef9e85",
   "metadata": {},
   "outputs": [
    {
     "data": {
      "text/plain": [
       "545"
      ]
     },
     "execution_count": 4,
     "metadata": {},
     "output_type": "execute_result"
    }
   ],
   "source": [
    "m = len(housing)\n",
    "m"
   ]
  },
  {
   "cell_type": "code",
   "execution_count": 5,
   "id": "5e108159",
   "metadata": {},
   "outputs": [
    {
     "data": {
      "text/plain": [
       "(545, 13)"
      ]
     },
     "execution_count": 5,
     "metadata": {},
     "output_type": "execute_result"
    }
   ],
   "source": [
    "housing.shape"
   ]
  },
  {
   "cell_type": "code",
   "execution_count": 6,
   "id": "5b821a25",
   "metadata": {},
   "outputs": [
    {
     "data": {
      "text/plain": [
       "(381, 13)"
      ]
     },
     "execution_count": 6,
     "metadata": {},
     "output_type": "execute_result"
    }
   ],
   "source": [
    "from sklearn.model_selection import train_test_split\n",
    "\n",
    "np.random.seed(0)\n",
    "df_train, df_test = train_test_split(housing, train_size = 0.7, test_size = 0.3)\n",
    "df_train.shape"
   ]
  },
  {
   "cell_type": "code",
   "execution_count": 7,
   "id": "334142d4",
   "metadata": {},
   "outputs": [
    {
     "data": {
      "text/plain": [
       "(164, 13)"
      ]
     },
     "execution_count": 7,
     "metadata": {},
     "output_type": "execute_result"
    }
   ],
   "source": [
    "df_test.shape"
   ]
  },
  {
   "cell_type": "code",
   "execution_count": 8,
   "id": "9770ca82",
   "metadata": {},
   "outputs": [
    {
     "data": {
      "text/html": [
       "<div>\n",
       "<style scoped>\n",
       "    .dataframe tbody tr th:only-of-type {\n",
       "        vertical-align: middle;\n",
       "    }\n",
       "\n",
       "    .dataframe tbody tr th {\n",
       "        vertical-align: top;\n",
       "    }\n",
       "\n",
       "    .dataframe thead th {\n",
       "        text-align: right;\n",
       "    }\n",
       "</style>\n",
       "<table border=\"1\" class=\"dataframe\">\n",
       "  <thead>\n",
       "    <tr style=\"text-align: right;\">\n",
       "      <th></th>\n",
       "      <th>area</th>\n",
       "      <th>bedrooms</th>\n",
       "      <th>bathrooms</th>\n",
       "      <th>stories</th>\n",
       "      <th>mainroad</th>\n",
       "      <th>guestroom</th>\n",
       "      <th>basement</th>\n",
       "      <th>hotwaterheating</th>\n",
       "      <th>airconditioning</th>\n",
       "      <th>parking</th>\n",
       "      <th>prefarea</th>\n",
       "      <th>price</th>\n",
       "    </tr>\n",
       "  </thead>\n",
       "  <tbody>\n",
       "    <tr>\n",
       "      <th>454</th>\n",
       "      <td>4500</td>\n",
       "      <td>3</td>\n",
       "      <td>1</td>\n",
       "      <td>2</td>\n",
       "      <td>yes</td>\n",
       "      <td>no</td>\n",
       "      <td>no</td>\n",
       "      <td>no</td>\n",
       "      <td>yes</td>\n",
       "      <td>0</td>\n",
       "      <td>no</td>\n",
       "      <td>3143000</td>\n",
       "    </tr>\n",
       "    <tr>\n",
       "      <th>392</th>\n",
       "      <td>3990</td>\n",
       "      <td>3</td>\n",
       "      <td>1</td>\n",
       "      <td>2</td>\n",
       "      <td>yes</td>\n",
       "      <td>no</td>\n",
       "      <td>no</td>\n",
       "      <td>no</td>\n",
       "      <td>no</td>\n",
       "      <td>0</td>\n",
       "      <td>no</td>\n",
       "      <td>3500000</td>\n",
       "    </tr>\n",
       "    <tr>\n",
       "      <th>231</th>\n",
       "      <td>4320</td>\n",
       "      <td>3</td>\n",
       "      <td>1</td>\n",
       "      <td>1</td>\n",
       "      <td>yes</td>\n",
       "      <td>no</td>\n",
       "      <td>no</td>\n",
       "      <td>no</td>\n",
       "      <td>no</td>\n",
       "      <td>0</td>\n",
       "      <td>yes</td>\n",
       "      <td>4690000</td>\n",
       "    </tr>\n",
       "    <tr>\n",
       "      <th>271</th>\n",
       "      <td>1905</td>\n",
       "      <td>5</td>\n",
       "      <td>1</td>\n",
       "      <td>2</td>\n",
       "      <td>no</td>\n",
       "      <td>no</td>\n",
       "      <td>yes</td>\n",
       "      <td>no</td>\n",
       "      <td>no</td>\n",
       "      <td>0</td>\n",
       "      <td>no</td>\n",
       "      <td>4340000</td>\n",
       "    </tr>\n",
       "    <tr>\n",
       "      <th>250</th>\n",
       "      <td>3510</td>\n",
       "      <td>3</td>\n",
       "      <td>1</td>\n",
       "      <td>3</td>\n",
       "      <td>yes</td>\n",
       "      <td>no</td>\n",
       "      <td>no</td>\n",
       "      <td>no</td>\n",
       "      <td>no</td>\n",
       "      <td>0</td>\n",
       "      <td>no</td>\n",
       "      <td>4515000</td>\n",
       "    </tr>\n",
       "  </tbody>\n",
       "</table>\n",
       "</div>"
      ],
      "text/plain": [
       "     area  bedrooms  bathrooms  stories mainroad guestroom basement  \\\n",
       "454  4500         3          1        2      yes        no       no   \n",
       "392  3990         3          1        2      yes        no       no   \n",
       "231  4320         3          1        1      yes        no       no   \n",
       "271  1905         5          1        2       no        no      yes   \n",
       "250  3510         3          1        3      yes        no       no   \n",
       "\n",
       "    hotwaterheating airconditioning  parking prefarea    price  \n",
       "454              no             yes        0       no  3143000  \n",
       "392              no              no        0       no  3500000  \n",
       "231              no              no        0      yes  4690000  \n",
       "271              no              no        0       no  4340000  \n",
       "250              no              no        0       no  4515000  "
      ]
     },
     "execution_count": 8,
     "metadata": {},
     "output_type": "execute_result"
    }
   ],
   "source": [
    "num_vars = ['area', 'bedrooms', 'bathrooms', 'stories', 'mainroad', 'guestroom', 'basement', \n",
    "            'hotwaterheating', 'airconditioning', 'parking', 'prefarea', 'price']\n",
    "df_Newtrain = df_train[num_vars]\n",
    "df_Newtest = df_test[num_vars]\n",
    "df_Newtrain.head()"
   ]
  },
  {
   "cell_type": "code",
   "execution_count": 9,
   "id": "247ec1ce",
   "metadata": {},
   "outputs": [
    {
     "name": "stderr",
     "output_type": "stream",
     "text": [
      "C:\\Users\\Shruthi\\AppData\\Local\\Temp\\ipykernel_19352\\2579499989.py:1: SettingWithCopyWarning: \n",
      "A value is trying to be set on a copy of a slice from a DataFrame\n",
      "\n",
      "See the caveats in the documentation: https://pandas.pydata.org/pandas-docs/stable/user_guide/indexing.html#returning-a-view-versus-a-copy\n",
      "  df_Newtrain.guestroom.replace(('yes', 'no'), (1, 0), inplace=True)\n",
      "C:\\Users\\Shruthi\\AppData\\Local\\Temp\\ipykernel_19352\\2579499989.py:2: SettingWithCopyWarning: \n",
      "A value is trying to be set on a copy of a slice from a DataFrame\n",
      "\n",
      "See the caveats in the documentation: https://pandas.pydata.org/pandas-docs/stable/user_guide/indexing.html#returning-a-view-versus-a-copy\n",
      "  df_Newtrain.mainroad.replace(('yes', 'no'), (1, 0), inplace=True)\n",
      "C:\\Users\\Shruthi\\AppData\\Local\\Temp\\ipykernel_19352\\2579499989.py:3: SettingWithCopyWarning: \n",
      "A value is trying to be set on a copy of a slice from a DataFrame\n",
      "\n",
      "See the caveats in the documentation: https://pandas.pydata.org/pandas-docs/stable/user_guide/indexing.html#returning-a-view-versus-a-copy\n",
      "  df_Newtrain.basement.replace(('yes', 'no'), (1, 0), inplace=True)\n",
      "C:\\Users\\Shruthi\\AppData\\Local\\Temp\\ipykernel_19352\\2579499989.py:4: SettingWithCopyWarning: \n",
      "A value is trying to be set on a copy of a slice from a DataFrame\n",
      "\n",
      "See the caveats in the documentation: https://pandas.pydata.org/pandas-docs/stable/user_guide/indexing.html#returning-a-view-versus-a-copy\n",
      "  df_Newtrain.hotwaterheating.replace(('yes', 'no'), (1, 0), inplace=True)\n",
      "C:\\Users\\Shruthi\\AppData\\Local\\Temp\\ipykernel_19352\\2579499989.py:5: SettingWithCopyWarning: \n",
      "A value is trying to be set on a copy of a slice from a DataFrame\n",
      "\n",
      "See the caveats in the documentation: https://pandas.pydata.org/pandas-docs/stable/user_guide/indexing.html#returning-a-view-versus-a-copy\n",
      "  df_Newtrain.airconditioning.replace(('yes', 'no'), (1, 0), inplace=True)\n",
      "C:\\Users\\Shruthi\\AppData\\Local\\Temp\\ipykernel_19352\\2579499989.py:6: SettingWithCopyWarning: \n",
      "A value is trying to be set on a copy of a slice from a DataFrame\n",
      "\n",
      "See the caveats in the documentation: https://pandas.pydata.org/pandas-docs/stable/user_guide/indexing.html#returning-a-view-versus-a-copy\n",
      "  df_Newtrain.prefarea.replace(('yes', 'no'), (1, 0), inplace=True)\n"
     ]
    },
    {
     "data": {
      "text/html": [
       "<div>\n",
       "<style scoped>\n",
       "    .dataframe tbody tr th:only-of-type {\n",
       "        vertical-align: middle;\n",
       "    }\n",
       "\n",
       "    .dataframe tbody tr th {\n",
       "        vertical-align: top;\n",
       "    }\n",
       "\n",
       "    .dataframe thead th {\n",
       "        text-align: right;\n",
       "    }\n",
       "</style>\n",
       "<table border=\"1\" class=\"dataframe\">\n",
       "  <thead>\n",
       "    <tr style=\"text-align: right;\">\n",
       "      <th></th>\n",
       "      <th>area</th>\n",
       "      <th>bedrooms</th>\n",
       "      <th>bathrooms</th>\n",
       "      <th>stories</th>\n",
       "      <th>mainroad</th>\n",
       "      <th>guestroom</th>\n",
       "      <th>basement</th>\n",
       "      <th>hotwaterheating</th>\n",
       "      <th>airconditioning</th>\n",
       "      <th>parking</th>\n",
       "      <th>prefarea</th>\n",
       "      <th>price</th>\n",
       "    </tr>\n",
       "  </thead>\n",
       "  <tbody>\n",
       "    <tr>\n",
       "      <th>454</th>\n",
       "      <td>4500</td>\n",
       "      <td>3</td>\n",
       "      <td>1</td>\n",
       "      <td>2</td>\n",
       "      <td>1</td>\n",
       "      <td>0</td>\n",
       "      <td>0</td>\n",
       "      <td>0</td>\n",
       "      <td>1</td>\n",
       "      <td>0</td>\n",
       "      <td>0</td>\n",
       "      <td>3143000</td>\n",
       "    </tr>\n",
       "    <tr>\n",
       "      <th>392</th>\n",
       "      <td>3990</td>\n",
       "      <td>3</td>\n",
       "      <td>1</td>\n",
       "      <td>2</td>\n",
       "      <td>1</td>\n",
       "      <td>0</td>\n",
       "      <td>0</td>\n",
       "      <td>0</td>\n",
       "      <td>0</td>\n",
       "      <td>0</td>\n",
       "      <td>0</td>\n",
       "      <td>3500000</td>\n",
       "    </tr>\n",
       "    <tr>\n",
       "      <th>231</th>\n",
       "      <td>4320</td>\n",
       "      <td>3</td>\n",
       "      <td>1</td>\n",
       "      <td>1</td>\n",
       "      <td>1</td>\n",
       "      <td>0</td>\n",
       "      <td>0</td>\n",
       "      <td>0</td>\n",
       "      <td>0</td>\n",
       "      <td>0</td>\n",
       "      <td>1</td>\n",
       "      <td>4690000</td>\n",
       "    </tr>\n",
       "    <tr>\n",
       "      <th>271</th>\n",
       "      <td>1905</td>\n",
       "      <td>5</td>\n",
       "      <td>1</td>\n",
       "      <td>2</td>\n",
       "      <td>0</td>\n",
       "      <td>0</td>\n",
       "      <td>1</td>\n",
       "      <td>0</td>\n",
       "      <td>0</td>\n",
       "      <td>0</td>\n",
       "      <td>0</td>\n",
       "      <td>4340000</td>\n",
       "    </tr>\n",
       "    <tr>\n",
       "      <th>250</th>\n",
       "      <td>3510</td>\n",
       "      <td>3</td>\n",
       "      <td>1</td>\n",
       "      <td>3</td>\n",
       "      <td>1</td>\n",
       "      <td>0</td>\n",
       "      <td>0</td>\n",
       "      <td>0</td>\n",
       "      <td>0</td>\n",
       "      <td>0</td>\n",
       "      <td>0</td>\n",
       "      <td>4515000</td>\n",
       "    </tr>\n",
       "    <tr>\n",
       "      <th>...</th>\n",
       "      <td>...</td>\n",
       "      <td>...</td>\n",
       "      <td>...</td>\n",
       "      <td>...</td>\n",
       "      <td>...</td>\n",
       "      <td>...</td>\n",
       "      <td>...</td>\n",
       "      <td>...</td>\n",
       "      <td>...</td>\n",
       "      <td>...</td>\n",
       "      <td>...</td>\n",
       "      <td>...</td>\n",
       "    </tr>\n",
       "    <tr>\n",
       "      <th>70</th>\n",
       "      <td>4000</td>\n",
       "      <td>3</td>\n",
       "      <td>2</td>\n",
       "      <td>2</td>\n",
       "      <td>1</td>\n",
       "      <td>0</td>\n",
       "      <td>1</td>\n",
       "      <td>0</td>\n",
       "      <td>1</td>\n",
       "      <td>0</td>\n",
       "      <td>1</td>\n",
       "      <td>6790000</td>\n",
       "    </tr>\n",
       "    <tr>\n",
       "      <th>277</th>\n",
       "      <td>10360</td>\n",
       "      <td>2</td>\n",
       "      <td>1</td>\n",
       "      <td>1</td>\n",
       "      <td>1</td>\n",
       "      <td>0</td>\n",
       "      <td>0</td>\n",
       "      <td>0</td>\n",
       "      <td>0</td>\n",
       "      <td>1</td>\n",
       "      <td>1</td>\n",
       "      <td>4305000</td>\n",
       "    </tr>\n",
       "    <tr>\n",
       "      <th>9</th>\n",
       "      <td>5750</td>\n",
       "      <td>3</td>\n",
       "      <td>2</td>\n",
       "      <td>4</td>\n",
       "      <td>1</td>\n",
       "      <td>1</td>\n",
       "      <td>0</td>\n",
       "      <td>0</td>\n",
       "      <td>1</td>\n",
       "      <td>1</td>\n",
       "      <td>1</td>\n",
       "      <td>9800000</td>\n",
       "    </tr>\n",
       "    <tr>\n",
       "      <th>359</th>\n",
       "      <td>3600</td>\n",
       "      <td>3</td>\n",
       "      <td>1</td>\n",
       "      <td>1</td>\n",
       "      <td>1</td>\n",
       "      <td>0</td>\n",
       "      <td>0</td>\n",
       "      <td>0</td>\n",
       "      <td>0</td>\n",
       "      <td>1</td>\n",
       "      <td>0</td>\n",
       "      <td>3710000</td>\n",
       "    </tr>\n",
       "    <tr>\n",
       "      <th>192</th>\n",
       "      <td>6600</td>\n",
       "      <td>3</td>\n",
       "      <td>1</td>\n",
       "      <td>1</td>\n",
       "      <td>1</td>\n",
       "      <td>1</td>\n",
       "      <td>1</td>\n",
       "      <td>0</td>\n",
       "      <td>0</td>\n",
       "      <td>0</td>\n",
       "      <td>1</td>\n",
       "      <td>5040000</td>\n",
       "    </tr>\n",
       "  </tbody>\n",
       "</table>\n",
       "<p>381 rows × 12 columns</p>\n",
       "</div>"
      ],
      "text/plain": [
       "      area  bedrooms  bathrooms  stories  mainroad  guestroom  basement  \\\n",
       "454   4500         3          1        2         1          0         0   \n",
       "392   3990         3          1        2         1          0         0   \n",
       "231   4320         3          1        1         1          0         0   \n",
       "271   1905         5          1        2         0          0         1   \n",
       "250   3510         3          1        3         1          0         0   \n",
       "..     ...       ...        ...      ...       ...        ...       ...   \n",
       "70    4000         3          2        2         1          0         1   \n",
       "277  10360         2          1        1         1          0         0   \n",
       "9     5750         3          2        4         1          1         0   \n",
       "359   3600         3          1        1         1          0         0   \n",
       "192   6600         3          1        1         1          1         1   \n",
       "\n",
       "     hotwaterheating  airconditioning  parking  prefarea    price  \n",
       "454                0                1        0         0  3143000  \n",
       "392                0                0        0         0  3500000  \n",
       "231                0                0        0         1  4690000  \n",
       "271                0                0        0         0  4340000  \n",
       "250                0                0        0         0  4515000  \n",
       "..               ...              ...      ...       ...      ...  \n",
       "70                 0                1        0         1  6790000  \n",
       "277                0                0        1         1  4305000  \n",
       "9                  0                1        1         1  9800000  \n",
       "359                0                0        1         0  3710000  \n",
       "192                0                0        0         1  5040000  \n",
       "\n",
       "[381 rows x 12 columns]"
      ]
     },
     "execution_count": 9,
     "metadata": {},
     "output_type": "execute_result"
    }
   ],
   "source": [
    "df_Newtrain.guestroom.replace(('yes', 'no'), (1, 0), inplace=True)\n",
    "df_Newtrain.mainroad.replace(('yes', 'no'), (1, 0), inplace=True)\n",
    "df_Newtrain.basement.replace(('yes', 'no'), (1, 0), inplace=True)\n",
    "df_Newtrain.hotwaterheating.replace(('yes', 'no'), (1, 0), inplace=True)\n",
    "df_Newtrain.airconditioning.replace(('yes', 'no'), (1, 0), inplace=True)\n",
    "df_Newtrain.prefarea.replace(('yes', 'no'), (1, 0), inplace=True)\n",
    "df_Newtrain"
   ]
  },
  {
   "cell_type": "code",
   "execution_count": 10,
   "id": "9db8d6d8",
   "metadata": {},
   "outputs": [],
   "source": [
    "trainl = len(df_Newtrain)\n",
    "testl = len(df_Newtest)"
   ]
  },
  {
   "cell_type": "code",
   "execution_count": 11,
   "id": "4a4cfcbe",
   "metadata": {},
   "outputs": [
    {
     "data": {
      "text/plain": [
       "(381, 12)"
      ]
     },
     "execution_count": 11,
     "metadata": {},
     "output_type": "execute_result"
    }
   ],
   "source": [
    "df_Newtrain.shape"
   ]
  },
  {
   "cell_type": "code",
   "execution_count": 12,
   "id": "42d1314f",
   "metadata": {},
   "outputs": [],
   "source": [
    "x0 = df_Newtrain.values[:,0] #area\n",
    "x1 = df_Newtrain.values[:,1] #bedrooms\n",
    "x2 = df_Newtrain.values[:,2] #bathrooms\n",
    "x3 = df_Newtrain.values[:,3] #stories\n",
    "x4 = df_Newtrain.values[:,4] #mainroad\n",
    "x5 = df_Newtrain.values[:,5] #guestroom\n",
    "x6 = df_Newtrain.values[:,6] #basement\n",
    "x7 = df_Newtrain.values[:,7] #Hotwater heating\n",
    "x8 = df_Newtrain.values[:,8] #airconditioning\n",
    "x9 = df_Newtrain.values[:,9] #parking\n",
    "x10 = df_Newtrain.values[:,10] #prefarea\n",
    "\n",
    "y = df_Newtrain.values[:,11] #price"
   ]
  },
  {
   "cell_type": "code",
   "execution_count": 13,
   "id": "539044fa",
   "metadata": {},
   "outputs": [],
   "source": [
    "x0 = x0.reshape(trainl, 1) \n",
    "x1 = x1.reshape(trainl, 1) \n",
    "x2 = x2.reshape(trainl, 1) \n",
    "x3 = x3.reshape(trainl, 1) \n",
    "x4 = x4.reshape(trainl, 1)\n",
    "x5 = x5.reshape(trainl, 1)\n",
    "x6 = x6.reshape(trainl, 1)\n",
    "x7 = x7.reshape(trainl, 1)\n",
    "x8 = x8.reshape(trainl, 1)\n",
    "x9 = x9.reshape(trainl, 1)\n",
    "x10 = x10.reshape(trainl, 1)\n",
    "\n",
    "y = y.reshape(trainl,1)"
   ]
  },
  {
   "cell_type": "code",
   "execution_count": 14,
   "id": "b1c0ab31",
   "metadata": {},
   "outputs": [],
   "source": [
    "x00 = np.ones((trainl, 1))\n",
    "X = np.hstack((x00, x0, x1, x2, x3, x4, x5, x6, x7, x8, x9, x10))"
   ]
  },
  {
   "cell_type": "code",
   "execution_count": 15,
   "id": "6ab1e9d1",
   "metadata": {},
   "outputs": [
    {
     "data": {
      "text/plain": [
       "(12, 1)"
      ]
     },
     "execution_count": 15,
     "metadata": {},
     "output_type": "execute_result"
    }
   ],
   "source": [
    "theta = np.zeros(12)\n",
    "theta = theta.reshape(12,1)\n",
    "theta.shape"
   ]
  },
  {
   "cell_type": "code",
   "execution_count": 16,
   "id": "5312c1fb",
   "metadata": {},
   "outputs": [],
   "source": [
    "def compute_cost (X, y, theta):\n",
    "    h = X.dot(theta)\n",
    "    j = np.subtract(h, y)\n",
    "    j2 = np.square(j)\n",
    "    J = 1/(2*m) * np.sum(j2)\n",
    "    \n",
    "    return J"
   ]
  },
  {
   "cell_type": "code",
   "execution_count": 17,
   "id": "26eecb3f",
   "metadata": {},
   "outputs": [
    {
     "name": "stdout",
     "output_type": "stream",
     "text": [
      "The cost for the given values of theta are:  9170960481173.027\n"
     ]
    }
   ],
   "source": [
    "cost = compute_cost(X, y, theta)\n",
    "print('The cost for the given values of theta are: ', cost)"
   ]
  },
  {
   "cell_type": "code",
   "execution_count": 18,
   "id": "f5497b32",
   "metadata": {},
   "outputs": [
    {
     "name": "stdout",
     "output_type": "stream",
     "text": [
      "      area  bedrooms  bathrooms  stories  parking\n",
      "239   4000         3          1        2        1\n",
      "113   9620         3          1        1        2\n",
      "325   3460         4          1        2        0\n",
      "66   13200         2          1        1        1\n",
      "479   3660         4          1        2        0\n",
      "239    4585000\n",
      "113    6083000\n",
      "325    4007500\n",
      "66     6930000\n",
      "479    2940000\n",
      "Name: price, dtype: int64\n"
     ]
    }
   ],
   "source": [
    "y_test = df_Newtest['price']\n",
    "x_test = df_Newtest[['area', 'bedrooms', 'bathrooms', 'stories', 'parking']]\n",
    "print(x_test.head(5))\n",
    "print(y_test.head(5))"
   ]
  },
  {
   "cell_type": "code",
   "execution_count": 19,
   "id": "604d86fb",
   "metadata": {},
   "outputs": [],
   "source": [
    "yt = y_test.values"
   ]
  },
  {
   "cell_type": "code",
   "execution_count": 20,
   "id": "762ec63d",
   "metadata": {},
   "outputs": [],
   "source": [
    "x0t = x_test.values[:,0]\n",
    "x1t = x_test.values[:,1]\n",
    "x2t = x_test.values[:,2]\n",
    "x3t = x_test.values[:,3]\n",
    "x4t = x_test.values[:,4]\n",
    "x5t = x_test.values[:,0]\n",
    "x6t = x_test.values[:,1]\n",
    "x7t = x_test.values[:,2]\n",
    "x8t = x_test.values[:,3]\n",
    "x9t = x_test.values[:,4]\n",
    "x10t = x_test.values[:,0]\n"
   ]
  },
  {
   "cell_type": "code",
   "execution_count": 21,
   "id": "5ce79f81",
   "metadata": {},
   "outputs": [],
   "source": [
    "x0t = x0t.reshape(testl, 1) \n",
    "x1t = x1t.reshape(testl, 1) \n",
    "x2t = x2t.reshape(testl, 1) \n",
    "x3t = x3t.reshape(testl, 1) \n",
    "x4t = x4t.reshape(testl, 1) \n",
    "x5t = x5t.reshape(testl, 1) \n",
    "x6t = x6t.reshape(testl, 1)\n",
    "x7t = x7t.reshape(testl, 1)\n",
    "x8t = x8t.reshape(testl, 1)\n",
    "x9t = x9t.reshape(testl, 1) \n",
    "x10t = x10t.reshape(testl, 1) \n",
    "yt = yt.reshape(testl,1)"
   ]
  },
  {
   "cell_type": "code",
   "execution_count": 22,
   "id": "65046bab",
   "metadata": {},
   "outputs": [],
   "source": [
    "x00t = np.ones((testl,1))\n",
    "Xt = np.hstack((x00t, x0t, x1t, x2t, x3t, x4t, x5t, x6t, x7t, x8t, x9t, x10t)) "
   ]
  },
  {
   "cell_type": "code",
   "execution_count": 23,
   "id": "f8639754",
   "metadata": {},
   "outputs": [],
   "source": [
    "def gradient_descent(X, y, theta, alpha, iterations, Xt, yt): \n",
    "    cost_history = np.zeros(iterations) \n",
    "    valcost_history = np.zeros(iterations)\n",
    "    for i in range(iterations):\n",
    "        #h = theta1.x1 + x0\n",
    "        h = X.dot(theta) \n",
    "        #Loss = h-y\n",
    "        j = np.subtract(h, y)\n",
    "        #For the derivative of j wrt theta\n",
    "        sum_delta = (alpha / m) * X.transpose().dot(j); \n",
    "        #Updating the new theta\n",
    "        theta = theta - sum_delta;\n",
    "        #Saving it in the history array\n",
    "        cost_history[i] = compute_cost(X, y, theta)\n",
    "        valcost_history[i] = compute_cost(Xt, yt, theta)\n",
    " \n",
    "    return theta, cost_history, valcost_history "
   ]
  },
  {
   "cell_type": "code",
   "execution_count": 24,
   "id": "1892c8d5",
   "metadata": {},
   "outputs": [],
   "source": [
    "theta = np.zeros(12)\n",
    "theta = theta.reshape(12, 1)\n",
    "iterations = 1500; \n",
    "alpha = 0.01; "
   ]
  },
  {
   "cell_type": "code",
   "execution_count": 25,
   "id": "c1b3f3ef",
   "metadata": {},
   "outputs": [
    {
     "name": "stdout",
     "output_type": "stream",
     "text": [
      "Final cost of theta:  [[nan]\n",
      " [nan]\n",
      " [nan]\n",
      " [nan]\n",
      " [nan]\n",
      " [nan]\n",
      " [nan]\n",
      " [nan]\n",
      " [nan]\n",
      " [nan]\n",
      " [nan]\n",
      " [nan]]\n",
      "Cost_history: \n",
      "ValCost_history: \n"
     ]
    },
    {
     "name": "stderr",
     "output_type": "stream",
     "text": [
      "C:\\Users\\Shruthi\\AppData\\Local\\Temp\\ipykernel_19352\\1274132957.py:4: RuntimeWarning: overflow encountered in square\n",
      "  j2 = np.square(j)\n",
      "C:\\Users\\Shruthi\\AppData\\Local\\Temp\\ipykernel_19352\\3614925474.py:12: RuntimeWarning: invalid value encountered in subtract\n",
      "  theta = theta - sum_delta;\n"
     ]
    },
    {
     "data": {
      "text/plain": [
       "(None,\n",
       " array([1.75079090e+23, 7.47216735e+33, 3.18910735e+44, ...,\n",
       "                   nan,            nan,            nan]))"
      ]
     },
     "execution_count": 25,
     "metadata": {},
     "output_type": "execute_result"
    }
   ],
   "source": [
    "theta, cost_history, valcost_history = gradient_descent(X, y, theta, alpha, iterations, Xt, yt)\n",
    "print(\"Final cost of theta: \", theta)\n",
    "print('Cost_history: '), cost_history\n",
    "print('ValCost_history: '), valcost_history"
   ]
  },
  {
   "cell_type": "code",
   "execution_count": 26,
   "id": "c807e5af",
   "metadata": {},
   "outputs": [
    {
     "data": {
      "text/plain": [
       "Text(0.5, 1.0, 'Convergence of gradient descent')"
      ]
     },
     "execution_count": 26,
     "metadata": {},
     "output_type": "execute_result"
    },
    {
     "data": {
      "image/png": "[encoded data removed]",
      "text/plain": [
       "<Figure size 640x480 with 1 Axes>"
      ]
     },
     "metadata": {},
     "output_type": "display_data"
    }
   ],
   "source": [
    "plt.plot(range(1, iterations + 1),cost_history, color='purple') \n",
    "plt.plot(range(1, iterations + 1),valcost_history, color='red') \n",
    "\n",
    "plt.rcParams[\"figure.figsize\"] = (10,6) \n",
    "plt.grid() \n",
    "plt.xlabel('Number of iterations') \n",
    "plt.ylabel('Cost (J)') \n",
    "plt.title('Convergence of gradient descent') "
   ]
  }
 ],
 "metadata": {
  "kernelspec": {
   "display_name": "Python 3 (ipykernel)",
   "language": "python",
   "name": "python3"
  },
  "language_info": {
   "codemirror_mode": {
    "name": "ipython",
    "version": 3
   },
   "file_extension": ".py",
   "mimetype": "text/x-python",
   "name": "python",
   "nbconvert_exporter": "python",
   "pygments_lexer": "ipython3",
   "version": "3.9.13"
  }
 },
 "nbformat": 4,
 "nbformat_minor": 5
}
