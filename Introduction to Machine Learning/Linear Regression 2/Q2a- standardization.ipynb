{
 "cells": [
  {
   "cell_type": "code",
   "execution_count": 1,
   "id": "2dcb277b",
   "metadata": {},
   "outputs": [],
   "source": [
    "# NAME: SHRUTHI PASUMARTHI\n",
    "# STUDENT ID: 801218392\n",
    "# HOMEWORK 1 Q2 A - STANDARDIZATION"
   ]
  },
  {
   "cell_type": "code",
   "execution_count": 2,
   "id": "b018eeef",
   "metadata": {},
   "outputs": [],
   "source": [
    "import numpy as np\n",
    "import pandas as pd\n",
    "\n",
    "import matplotlib.pyplot as plt\n",
    "import seaborn as sns"
   ]
  },
  {
   "cell_type": "code",
   "execution_count": 3,
   "id": "b2dfac9d",
   "metadata": {},
   "outputs": [
    {
     "data": {
      "text/html": [
       "<div>\n",
       "<style scoped>\n",
       "    .dataframe tbody tr th:only-of-type {\n",
       "        vertical-align: middle;\n",
       "    }\n",
       "\n",
       "    .dataframe tbody tr th {\n",
       "        vertical-align: top;\n",
       "    }\n",
       "\n",
       "    .dataframe thead th {\n",
       "        text-align: right;\n",
       "    }\n",
       "</style>\n",
       "<table border=\"1\" class=\"dataframe\">\n",
       "  <thead>\n",
       "    <tr style=\"text-align: right;\">\n",
       "      <th></th>\n",
       "      <th>price</th>\n",
       "      <th>area</th>\n",
       "      <th>bedrooms</th>\n",
       "      <th>bathrooms</th>\n",
       "      <th>stories</th>\n",
       "      <th>mainroad</th>\n",
       "      <th>guestroom</th>\n",
       "      <th>basement</th>\n",
       "      <th>hotwaterheating</th>\n",
       "      <th>airconditioning</th>\n",
       "      <th>parking</th>\n",
       "      <th>prefarea</th>\n",
       "      <th>furnishingstatus</th>\n",
       "    </tr>\n",
       "  </thead>\n",
       "  <tbody>\n",
       "    <tr>\n",
       "      <th>0</th>\n",
       "      <td>13300000</td>\n",
       "      <td>7420</td>\n",
       "      <td>4</td>\n",
       "      <td>2</td>\n",
       "      <td>3</td>\n",
       "      <td>yes</td>\n",
       "      <td>no</td>\n",
       "      <td>no</td>\n",
       "      <td>no</td>\n",
       "      <td>yes</td>\n",
       "      <td>2</td>\n",
       "      <td>yes</td>\n",
       "      <td>furnished</td>\n",
       "    </tr>\n",
       "    <tr>\n",
       "      <th>1</th>\n",
       "      <td>12250000</td>\n",
       "      <td>8960</td>\n",
       "      <td>4</td>\n",
       "      <td>4</td>\n",
       "      <td>4</td>\n",
       "      <td>yes</td>\n",
       "      <td>no</td>\n",
       "      <td>no</td>\n",
       "      <td>no</td>\n",
       "      <td>yes</td>\n",
       "      <td>3</td>\n",
       "      <td>no</td>\n",
       "      <td>furnished</td>\n",
       "    </tr>\n",
       "    <tr>\n",
       "      <th>2</th>\n",
       "      <td>12250000</td>\n",
       "      <td>9960</td>\n",
       "      <td>3</td>\n",
       "      <td>2</td>\n",
       "      <td>2</td>\n",
       "      <td>yes</td>\n",
       "      <td>no</td>\n",
       "      <td>yes</td>\n",
       "      <td>no</td>\n",
       "      <td>no</td>\n",
       "      <td>2</td>\n",
       "      <td>yes</td>\n",
       "      <td>semi-furnished</td>\n",
       "    </tr>\n",
       "    <tr>\n",
       "      <th>3</th>\n",
       "      <td>12215000</td>\n",
       "      <td>7500</td>\n",
       "      <td>4</td>\n",
       "      <td>2</td>\n",
       "      <td>2</td>\n",
       "      <td>yes</td>\n",
       "      <td>no</td>\n",
       "      <td>yes</td>\n",
       "      <td>no</td>\n",
       "      <td>yes</td>\n",
       "      <td>3</td>\n",
       "      <td>yes</td>\n",
       "      <td>furnished</td>\n",
       "    </tr>\n",
       "    <tr>\n",
       "      <th>4</th>\n",
       "      <td>11410000</td>\n",
       "      <td>7420</td>\n",
       "      <td>4</td>\n",
       "      <td>1</td>\n",
       "      <td>2</td>\n",
       "      <td>yes</td>\n",
       "      <td>yes</td>\n",
       "      <td>yes</td>\n",
       "      <td>no</td>\n",
       "      <td>yes</td>\n",
       "      <td>2</td>\n",
       "      <td>no</td>\n",
       "      <td>furnished</td>\n",
       "    </tr>\n",
       "  </tbody>\n",
       "</table>\n",
       "</div>"
      ],
      "text/plain": [
       "      price  area  bedrooms  bathrooms  stories mainroad guestroom basement  \\\n",
       "0  13300000  7420         4          2        3      yes        no       no   \n",
       "1  12250000  8960         4          4        4      yes        no       no   \n",
       "2  12250000  9960         3          2        2      yes        no      yes   \n",
       "3  12215000  7500         4          2        2      yes        no      yes   \n",
       "4  11410000  7420         4          1        2      yes       yes      yes   \n",
       "\n",
       "  hotwaterheating airconditioning  parking prefarea furnishingstatus  \n",
       "0              no             yes        2      yes        furnished  \n",
       "1              no             yes        3       no        furnished  \n",
       "2              no              no        2      yes   semi-furnished  \n",
       "3              no             yes        3      yes        furnished  \n",
       "4              no             yes        2       no        furnished  "
      ]
     },
     "execution_count": 3,
     "metadata": {},
     "output_type": "execute_result"
    }
   ],
   "source": [
    "housing = pd.DataFrame(pd.read_csv(\"Housing.csv\"))\n",
    "housing.head()"
   ]
  },
  {
   "cell_type": "code",
   "execution_count": 4,
   "id": "f813a6ba",
   "metadata": {},
   "outputs": [
    {
     "data": {
      "text/plain": [
       "545"
      ]
     },
     "execution_count": 4,
     "metadata": {},
     "output_type": "execute_result"
    }
   ],
   "source": [
    "m = len(housing)\n",
    "m"
   ]
  },
  {
   "cell_type": "code",
   "execution_count": 5,
   "id": "143abf38",
   "metadata": {},
   "outputs": [
    {
     "data": {
      "text/plain": [
       "(545, 13)"
      ]
     },
     "execution_count": 5,
     "metadata": {},
     "output_type": "execute_result"
    }
   ],
   "source": [
    "housing.shape"
   ]
  },
  {
   "cell_type": "code",
   "execution_count": 6,
   "id": "6be21ec4",
   "metadata": {},
   "outputs": [
    {
     "data": {
      "text/plain": [
       "(436, 13)"
      ]
     },
     "execution_count": 6,
     "metadata": {},
     "output_type": "execute_result"
    }
   ],
   "source": [
    "from sklearn.model_selection import train_test_split\n",
    "\n",
    "np.random.seed(0)\n",
    "df_train, df_test = train_test_split(housing, train_size = 0.8, test_size = 0.2)\n",
    "df_train.shape"
   ]
  },
  {
   "cell_type": "code",
   "execution_count": 7,
   "id": "c10a49b9",
   "metadata": {},
   "outputs": [
    {
     "data": {
      "text/plain": [
       "(109, 13)"
      ]
     },
     "execution_count": 7,
     "metadata": {},
     "output_type": "execute_result"
    }
   ],
   "source": [
    "df_test.shape"
   ]
  },
  {
   "cell_type": "code",
   "execution_count": 8,
   "id": "0ed0a475",
   "metadata": {},
   "outputs": [
    {
     "data": {
      "text/html": [
       "<div>\n",
       "<style scoped>\n",
       "    .dataframe tbody tr th:only-of-type {\n",
       "        vertical-align: middle;\n",
       "    }\n",
       "\n",
       "    .dataframe tbody tr th {\n",
       "        vertical-align: top;\n",
       "    }\n",
       "\n",
       "    .dataframe thead th {\n",
       "        text-align: right;\n",
       "    }\n",
       "</style>\n",
       "<table border=\"1\" class=\"dataframe\">\n",
       "  <thead>\n",
       "    <tr style=\"text-align: right;\">\n",
       "      <th></th>\n",
       "      <th>area</th>\n",
       "      <th>bedrooms</th>\n",
       "      <th>bathrooms</th>\n",
       "      <th>stories</th>\n",
       "      <th>parking</th>\n",
       "      <th>price</th>\n",
       "    </tr>\n",
       "  </thead>\n",
       "  <tbody>\n",
       "    <tr>\n",
       "      <th>542</th>\n",
       "      <td>3620</td>\n",
       "      <td>2</td>\n",
       "      <td>1</td>\n",
       "      <td>1</td>\n",
       "      <td>0</td>\n",
       "      <td>1750000</td>\n",
       "    </tr>\n",
       "    <tr>\n",
       "      <th>496</th>\n",
       "      <td>4000</td>\n",
       "      <td>2</td>\n",
       "      <td>1</td>\n",
       "      <td>1</td>\n",
       "      <td>0</td>\n",
       "      <td>2695000</td>\n",
       "    </tr>\n",
       "    <tr>\n",
       "      <th>484</th>\n",
       "      <td>3040</td>\n",
       "      <td>2</td>\n",
       "      <td>1</td>\n",
       "      <td>1</td>\n",
       "      <td>0</td>\n",
       "      <td>2870000</td>\n",
       "    </tr>\n",
       "    <tr>\n",
       "      <th>507</th>\n",
       "      <td>3600</td>\n",
       "      <td>2</td>\n",
       "      <td>1</td>\n",
       "      <td>1</td>\n",
       "      <td>0</td>\n",
       "      <td>2590000</td>\n",
       "    </tr>\n",
       "    <tr>\n",
       "      <th>252</th>\n",
       "      <td>9860</td>\n",
       "      <td>3</td>\n",
       "      <td>1</td>\n",
       "      <td>1</td>\n",
       "      <td>0</td>\n",
       "      <td>4515000</td>\n",
       "    </tr>\n",
       "  </tbody>\n",
       "</table>\n",
       "</div>"
      ],
      "text/plain": [
       "     area  bedrooms  bathrooms  stories  parking    price\n",
       "542  3620         2          1        1        0  1750000\n",
       "496  4000         2          1        1        0  2695000\n",
       "484  3040         2          1        1        0  2870000\n",
       "507  3600         2          1        1        0  2590000\n",
       "252  9860         3          1        1        0  4515000"
      ]
     },
     "execution_count": 8,
     "metadata": {},
     "output_type": "execute_result"
    }
   ],
   "source": [
    "num_vars = ['area', 'bedrooms', 'bathrooms', 'stories', 'parking', 'price']\n",
    "df_Newtrain = df_train[num_vars]\n",
    "df_Newtest = df_test[num_vars]\n",
    "df_Newtrain.head()"
   ]
  },
  {
   "cell_type": "code",
   "execution_count": 9,
   "id": "38fce775",
   "metadata": {},
   "outputs": [
    {
     "name": "stderr",
     "output_type": "stream",
     "text": [
      "C:\\Users\\Shruthi\\AppData\\Local\\Temp\\ipykernel_26276\\2617588257.py:3: SettingWithCopyWarning: \n",
      "A value is trying to be set on a copy of a slice from a DataFrame.\n",
      "Try using .loc[row_indexer,col_indexer] = value instead\n",
      "\n",
      "See the caveats in the documentation: https://pandas.pydata.org/pandas-docs/stable/user_guide/indexing.html#returning-a-view-versus-a-copy\n",
      "  df_Newtrain[num_vars] = scaler.fit_transform(df_Newtrain[num_vars])\n"
     ]
    },
    {
     "data": {
      "text/html": [
       "<div>\n",
       "<style scoped>\n",
       "    .dataframe tbody tr th:only-of-type {\n",
       "        vertical-align: middle;\n",
       "    }\n",
       "\n",
       "    .dataframe tbody tr th {\n",
       "        vertical-align: top;\n",
       "    }\n",
       "\n",
       "    .dataframe thead th {\n",
       "        text-align: right;\n",
       "    }\n",
       "</style>\n",
       "<table border=\"1\" class=\"dataframe\">\n",
       "  <thead>\n",
       "    <tr style=\"text-align: right;\">\n",
       "      <th></th>\n",
       "      <th>area</th>\n",
       "      <th>bedrooms</th>\n",
       "      <th>bathrooms</th>\n",
       "      <th>stories</th>\n",
       "      <th>parking</th>\n",
       "      <th>price</th>\n",
       "    </tr>\n",
       "  </thead>\n",
       "  <tbody>\n",
       "    <tr>\n",
       "      <th>542</th>\n",
       "      <td>-0.716772</td>\n",
       "      <td>-1.294376</td>\n",
       "      <td>-0.573307</td>\n",
       "      <td>-0.933142</td>\n",
       "      <td>-0.819149</td>\n",
       "      <td>-1.586001</td>\n",
       "    </tr>\n",
       "    <tr>\n",
       "      <th>496</th>\n",
       "      <td>-0.538936</td>\n",
       "      <td>-1.294376</td>\n",
       "      <td>-0.573307</td>\n",
       "      <td>-0.933142</td>\n",
       "      <td>-0.819149</td>\n",
       "      <td>-1.090971</td>\n",
       "    </tr>\n",
       "    <tr>\n",
       "      <th>484</th>\n",
       "      <td>-0.988206</td>\n",
       "      <td>-1.294376</td>\n",
       "      <td>-0.573307</td>\n",
       "      <td>-0.933142</td>\n",
       "      <td>-0.819149</td>\n",
       "      <td>-0.999299</td>\n",
       "    </tr>\n",
       "    <tr>\n",
       "      <th>507</th>\n",
       "      <td>-0.726132</td>\n",
       "      <td>-1.294376</td>\n",
       "      <td>-0.573307</td>\n",
       "      <td>-0.933142</td>\n",
       "      <td>-0.819149</td>\n",
       "      <td>-1.145974</td>\n",
       "    </tr>\n",
       "    <tr>\n",
       "      <th>252</th>\n",
       "      <td>2.203478</td>\n",
       "      <td>0.052516</td>\n",
       "      <td>-0.573307</td>\n",
       "      <td>-0.933142</td>\n",
       "      <td>-0.819149</td>\n",
       "      <td>-0.137579</td>\n",
       "    </tr>\n",
       "  </tbody>\n",
       "</table>\n",
       "</div>"
      ],
      "text/plain": [
       "         area  bedrooms  bathrooms   stories   parking     price\n",
       "542 -0.716772 -1.294376  -0.573307 -0.933142 -0.819149 -1.586001\n",
       "496 -0.538936 -1.294376  -0.573307 -0.933142 -0.819149 -1.090971\n",
       "484 -0.988206 -1.294376  -0.573307 -0.933142 -0.819149 -0.999299\n",
       "507 -0.726132 -1.294376  -0.573307 -0.933142 -0.819149 -1.145974\n",
       "252  2.203478  0.052516  -0.573307 -0.933142 -0.819149 -0.137579"
      ]
     },
     "execution_count": 9,
     "metadata": {},
     "output_type": "execute_result"
    }
   ],
   "source": [
    "from sklearn.preprocessing import StandardScaler\n",
    "scaler = StandardScaler()\n",
    "df_Newtrain[num_vars] = scaler.fit_transform(df_Newtrain[num_vars])\n",
    "df_Newtrain.head(5)"
   ]
  },
  {
   "cell_type": "code",
   "execution_count": 10,
   "id": "7708dbb6",
   "metadata": {},
   "outputs": [],
   "source": [
    "trainl = len(df_Newtrain)\n",
    "testl = len(df_Newtest)"
   ]
  },
  {
   "cell_type": "code",
   "execution_count": 11,
   "id": "51aadbba",
   "metadata": {},
   "outputs": [
    {
     "data": {
      "text/plain": [
       "(436, 6)"
      ]
     },
     "execution_count": 11,
     "metadata": {},
     "output_type": "execute_result"
    }
   ],
   "source": [
    "df_Newtrain.shape"
   ]
  },
  {
   "cell_type": "code",
   "execution_count": 12,
   "id": "9911726b",
   "metadata": {},
   "outputs": [],
   "source": [
    "x0 = df_Newtrain.values[:,0]\n",
    "x1 = df_Newtrain.values[:,1]\n",
    "x2 = df_Newtrain.values[:,2]\n",
    "x3 = df_Newtrain.values[:,3]\n",
    "x4 = df_Newtrain.values[:,4]"
   ]
  },
  {
   "cell_type": "code",
   "execution_count": 13,
   "id": "66882394",
   "metadata": {},
   "outputs": [],
   "source": [
    "x0 = x0.reshape(trainl, 1) \n",
    "x1 = x1.reshape(trainl, 1) \n",
    "x2 = x2.reshape(trainl, 1) \n",
    "x3 = x3.reshape(trainl, 1) \n",
    "x4 = x4.reshape(trainl, 1)\n",
    "\n",
    "y = df_Newtrain.values[:,5]\n",
    "y = y.reshape(trainl,1)"
   ]
  },
  {
   "cell_type": "code",
   "execution_count": 14,
   "id": "a73c67c4",
   "metadata": {},
   "outputs": [],
   "source": [
    "x00 = np.ones((trainl,1))\n",
    "X = np.hstack((x00, x0, x1, x2, x3, x4)) "
   ]
  },
  {
   "cell_type": "code",
   "execution_count": 15,
   "id": "f120f38c",
   "metadata": {},
   "outputs": [
    {
     "data": {
      "text/plain": [
       "(6, 1)"
      ]
     },
     "execution_count": 15,
     "metadata": {},
     "output_type": "execute_result"
    }
   ],
   "source": [
    "theta = np.zeros(6)\n",
    "theta = theta.reshape(6,1)\n",
    "theta.shape"
   ]
  },
  {
   "cell_type": "code",
   "execution_count": 16,
   "id": "e0e5b54f",
   "metadata": {},
   "outputs": [],
   "source": [
    "def compute_cost (X, y, theta):\n",
    "    h = X.dot(theta)\n",
    "    j = np.subtract(h, y)\n",
    "    j2 = np.square(j)\n",
    "    J = 1/(2*m) * np.sum(j2)\n",
    "    \n",
    "    return J"
   ]
  },
  {
   "cell_type": "code",
   "execution_count": 17,
   "id": "bdb8e841",
   "metadata": {},
   "outputs": [
    {
     "name": "stdout",
     "output_type": "stream",
     "text": [
      "The cost for the given values of theta are:  0.4000000000000001\n"
     ]
    }
   ],
   "source": [
    "cost = compute_cost(X, y, theta)\n",
    "print('The cost for the given values of theta are: ', cost)"
   ]
  },
  {
   "cell_type": "code",
   "execution_count": 18,
   "id": "1c5bb091",
   "metadata": {},
   "outputs": [],
   "source": [
    "# * * * VALIDATION * * *"
   ]
  },
  {
   "cell_type": "code",
   "execution_count": 19,
   "id": "ae45c63e",
   "metadata": {},
   "outputs": [
    {
     "name": "stderr",
     "output_type": "stream",
     "text": [
      "C:\\Users\\Shruthi\\AppData\\Local\\Temp\\ipykernel_26276\\474122559.py:2: SettingWithCopyWarning: \n",
      "A value is trying to be set on a copy of a slice from a DataFrame.\n",
      "Try using .loc[row_indexer,col_indexer] = value instead\n",
      "\n",
      "See the caveats in the documentation: https://pandas.pydata.org/pandas-docs/stable/user_guide/indexing.html#returning-a-view-versus-a-copy\n",
      "  df_Newtest[num_vars] = scaler.fit_transform(df_Newtest[num_vars])\n"
     ]
    },
    {
     "data": {
      "text/html": [
       "<div>\n",
       "<style scoped>\n",
       "    .dataframe tbody tr th:only-of-type {\n",
       "        vertical-align: middle;\n",
       "    }\n",
       "\n",
       "    .dataframe tbody tr th {\n",
       "        vertical-align: top;\n",
       "    }\n",
       "\n",
       "    .dataframe thead th {\n",
       "        text-align: right;\n",
       "    }\n",
       "</style>\n",
       "<table border=\"1\" class=\"dataframe\">\n",
       "  <thead>\n",
       "    <tr style=\"text-align: right;\">\n",
       "      <th></th>\n",
       "      <th>area</th>\n",
       "      <th>bedrooms</th>\n",
       "      <th>bathrooms</th>\n",
       "      <th>stories</th>\n",
       "      <th>parking</th>\n",
       "      <th>price</th>\n",
       "    </tr>\n",
       "  </thead>\n",
       "  <tbody>\n",
       "    <tr>\n",
       "      <th>239</th>\n",
       "      <td>-0.500735</td>\n",
       "      <td>0.025607</td>\n",
       "      <td>-0.563545</td>\n",
       "      <td>0.272416</td>\n",
       "      <td>0.492144</td>\n",
       "      <td>-0.081358</td>\n",
       "    </tr>\n",
       "    <tr>\n",
       "      <th>113</th>\n",
       "      <td>1.954229</td>\n",
       "      <td>0.025607</td>\n",
       "      <td>-0.563545</td>\n",
       "      <td>-0.915317</td>\n",
       "      <td>1.739673</td>\n",
       "      <td>0.801114</td>\n",
       "    </tr>\n",
       "    <tr>\n",
       "      <th>325</th>\n",
       "      <td>-0.736621</td>\n",
       "      <td>1.421209</td>\n",
       "      <td>-0.563545</td>\n",
       "      <td>0.272416</td>\n",
       "      <td>-0.755384</td>\n",
       "      <td>-0.421563</td>\n",
       "    </tr>\n",
       "    <tr>\n",
       "      <th>66</th>\n",
       "      <td>3.518067</td>\n",
       "      <td>-1.369995</td>\n",
       "      <td>-0.563545</td>\n",
       "      <td>-0.915317</td>\n",
       "      <td>0.492144</td>\n",
       "      <td>1.300082</td>\n",
       "    </tr>\n",
       "    <tr>\n",
       "      <th>479</th>\n",
       "      <td>-0.649256</td>\n",
       "      <td>1.421209</td>\n",
       "      <td>-0.563545</td>\n",
       "      <td>0.272416</td>\n",
       "      <td>-0.755384</td>\n",
       "      <td>-1.050428</td>\n",
       "    </tr>\n",
       "  </tbody>\n",
       "</table>\n",
       "</div>"
      ],
      "text/plain": [
       "         area  bedrooms  bathrooms   stories   parking     price\n",
       "239 -0.500735  0.025607  -0.563545  0.272416  0.492144 -0.081358\n",
       "113  1.954229  0.025607  -0.563545 -0.915317  1.739673  0.801114\n",
       "325 -0.736621  1.421209  -0.563545  0.272416 -0.755384 -0.421563\n",
       "66   3.518067 -1.369995  -0.563545 -0.915317  0.492144  1.300082\n",
       "479 -0.649256  1.421209  -0.563545  0.272416 -0.755384 -1.050428"
      ]
     },
     "execution_count": 19,
     "metadata": {},
     "output_type": "execute_result"
    }
   ],
   "source": [
    "scaler = StandardScaler()\n",
    "df_Newtest[num_vars] = scaler.fit_transform(df_Newtest[num_vars])\n",
    "df_Newtest.head(5)"
   ]
  },
  {
   "cell_type": "code",
   "execution_count": 20,
   "id": "27f65b8b",
   "metadata": {},
   "outputs": [
    {
     "name": "stdout",
     "output_type": "stream",
     "text": [
      "         area  bedrooms  bathrooms   stories   parking\n",
      "239 -0.500735  0.025607  -0.563545  0.272416  0.492144\n",
      "113  1.954229  0.025607  -0.563545 -0.915317  1.739673\n",
      "325 -0.736621  1.421209  -0.563545  0.272416 -0.755384\n",
      "66   3.518067 -1.369995  -0.563545 -0.915317  0.492144\n",
      "479 -0.649256  1.421209  -0.563545  0.272416 -0.755384\n",
      "239   -0.081358\n",
      "113    0.801114\n",
      "325   -0.421563\n",
      "66     1.300082\n",
      "479   -1.050428\n",
      "Name: price, dtype: float64\n"
     ]
    }
   ],
   "source": [
    "y_test = df_Newtest['price']\n",
    "x_test = df_Newtest[['area', 'bedrooms', 'bathrooms', 'stories', 'parking']]\n",
    "print(x_test.head(5))\n",
    "print(y_test.head(5))"
   ]
  },
  {
   "cell_type": "code",
   "execution_count": 21,
   "id": "92d1001f",
   "metadata": {},
   "outputs": [],
   "source": [
    "yt = y_test.values"
   ]
  },
  {
   "cell_type": "code",
   "execution_count": 22,
   "id": "c45422db",
   "metadata": {},
   "outputs": [],
   "source": [
    "x0t = x_test.values[:,0]\n",
    "x1t = x_test.values[:,1]\n",
    "x2t = x_test.values[:,2]\n",
    "x3t = x_test.values[:,3]\n",
    "x4t = x_test.values[:,4]"
   ]
  },
  {
   "cell_type": "code",
   "execution_count": 23,
   "id": "afbcde75",
   "metadata": {},
   "outputs": [],
   "source": [
    "x0t = x0t.reshape(testl, 1) \n",
    "x1t = x1t.reshape(testl, 1) \n",
    "x2t = x2t.reshape(testl, 1) \n",
    "x3t = x3t.reshape(testl, 1) \n",
    "x4t = x4t.reshape(testl, 1) \n",
    "yt = yt.reshape(testl,1)"
   ]
  },
  {
   "cell_type": "code",
   "execution_count": 24,
   "id": "62813e54",
   "metadata": {},
   "outputs": [],
   "source": [
    "x00t = np.ones((testl,1))\n",
    "Xt = np.hstack((x00t, x0t, x1t, x2t, x3t, x4t)) "
   ]
  },
  {
   "cell_type": "code",
   "execution_count": 25,
   "id": "b712390a",
   "metadata": {},
   "outputs": [],
   "source": [
    "theta = np.zeros(6)\n",
    "theta = theta.reshape(6,1)"
   ]
  },
  {
   "cell_type": "code",
   "execution_count": 26,
   "id": "c79e6680",
   "metadata": {},
   "outputs": [],
   "source": [
    "def gradient_descent(X, y, theta, alpha, iterations, Xt, yt): \n",
    "    cost_history = np.zeros(iterations) \n",
    "    Valcost_history = np.zeros(iterations)\n",
    "    for i in range(iterations):\n",
    "        #h = theta1.x1 + x0\n",
    "        h = X.dot(theta) \n",
    "        #Loss = h-y\n",
    "        j = np.subtract(h, y)\n",
    "        #For the derivative of j wrt theta\n",
    "        sum_delta = (alpha / m) * X.transpose().dot(j); \n",
    "        #Updating the new theta\n",
    "        theta = theta - sum_delta;\n",
    "        #Saving it in the history array\n",
    "        cost_history[i] = compute_cost(X, y, theta)\n",
    "        Valcost_history[i] = compute_cost(Xt, yt, theta)\n",
    "        \n",
    "    return theta, cost_history, Valcost_history"
   ]
  },
  {
   "cell_type": "code",
   "execution_count": 27,
   "id": "2bca6cd1",
   "metadata": {},
   "outputs": [],
   "source": [
    "iterations = 15000; \n",
    "alpha = 0.01; "
   ]
  },
  {
   "cell_type": "code",
   "execution_count": 28,
   "id": "1749cafb",
   "metadata": {},
   "outputs": [
    {
     "name": "stdout",
     "output_type": "stream",
     "text": [
      "Final cost of theta:  [[2.81475149e-16]\n",
      " [3.88481823e-01]\n",
      " [8.90638389e-02]\n",
      " [3.04158794e-01]\n",
      " [2.40439813e-01]\n",
      " [1.60108157e-01]]\n",
      "Cost_history: \n",
      "ValCost_history: \n"
     ]
    },
    {
     "data": {
      "text/plain": [
       "(None,\n",
       " array([0.09833389, 0.09671646, 0.09514623, ..., 0.03889723, 0.03889723,\n",
       "        0.03889723]))"
      ]
     },
     "execution_count": 28,
     "metadata": {},
     "output_type": "execute_result"
    }
   ],
   "source": [
    "theta, cost_history, valcost_history= gradient_descent(X, y, theta, alpha, iterations, Xt, yt)\n",
    "print(\"Final cost of theta: \", theta)\n",
    "print('Cost_history: '), cost_history\n",
    "print('ValCost_history: '), valcost_history"
   ]
  },
  {
   "cell_type": "code",
   "execution_count": 29,
   "id": "6b5bad01",
   "metadata": {},
   "outputs": [
    {
     "data": {
      "image/png": "[encoded data removed]",
      "text/plain": [
       "<Figure size 640x480 with 1 Axes>"
      ]
     },
     "metadata": {},
     "output_type": "display_data"
    }
   ],
   "source": [
    "plt.plot(range(1, iterations + 1),cost_history, color='purple')\n",
    "plt.plot(range(1, iterations + 1),valcost_history, color='red')\n",
    "\n",
    "plt.rcParams[\"figure.figsize\"] = (10,6) \n",
    "plt.grid() \n",
    "plt.xlabel('Number of iterations') \n",
    "plt.ylabel('Cost (J)') \n",
    "plt.title('Convergence of gradient descent') \n",
    "plt.show()"
   ]
  }
 ],
 "metadata": {
  "kernelspec": {
   "display_name": "Python 3 (ipykernel)",
   "language": "python",
   "name": "python3"
  },
  "language_info": {
   "codemirror_mode": {
    "name": "ipython",
    "version": 3
   },
   "file_extension": ".py",
   "mimetype": "text/x-python",
   "name": "python",
   "nbconvert_exporter": "python",
   "pygments_lexer": "ipython3",
   "version": "3.9.13"
  }
 },
 "nbformat": 4,
 "nbformat_minor": 5
}
