{
 "cells": [
  {
   "cell_type": "code",
   "execution_count": 1,
   "id": "a009f1b3-91bb-4377-ae01-32fb9eae5b7f",
   "metadata": {},
   "outputs": [],
   "source": [
    "# SHRUTHI PASUMARTHI\n",
    "# STUDENT ID: 801218392\n",
    "# HOMEWORK 0"
   ]
  },
  {
   "cell_type": "code",
   "execution_count": 2,
   "id": "21cb7d3b",
   "metadata": {},
   "outputs": [],
   "source": [
    "import numpy as np \n",
    "import matplotlib.pyplot as plt \n",
    "import pandas as pd"
   ]
  },
  {
   "cell_type": "code",
   "execution_count": 3,
   "id": "95ebd190-7b5e-4071-bd33-afd7e6821148",
   "metadata": {},
   "outputs": [],
   "source": [
    "#Reading the dataset using pandas\n",
    "dataset = pd.read_csv('D3.csv') "
   ]
  },
  {
   "cell_type": "code",
   "execution_count": 4,
   "id": "834c68b9-76c6-4262-a47c-dd0af7231e66",
   "metadata": {},
   "outputs": [
    {
     "data": {
      "text/html": [
       "<div>\n",
       "<style scoped>\n",
       "    .dataframe tbody tr th:only-of-type {\n",
       "        vertical-align: middle;\n",
       "    }\n",
       "\n",
       "    .dataframe tbody tr th {\n",
       "        vertical-align: top;\n",
       "    }\n",
       "\n",
       "    .dataframe thead th {\n",
       "        text-align: right;\n",
       "    }\n",
       "</style>\n",
       "<table border=\"1\" class=\"dataframe\">\n",
       "  <thead>\n",
       "    <tr style=\"text-align: right;\">\n",
       "      <th></th>\n",
       "      <th>X1</th>\n",
       "      <th>X2</th>\n",
       "      <th>X3</th>\n",
       "      <th>Y</th>\n",
       "    </tr>\n",
       "  </thead>\n",
       "  <tbody>\n",
       "    <tr>\n",
       "      <th>0</th>\n",
       "      <td>0.000000</td>\n",
       "      <td>3.440000</td>\n",
       "      <td>0.440000</td>\n",
       "      <td>4.387545</td>\n",
       "    </tr>\n",
       "    <tr>\n",
       "      <th>1</th>\n",
       "      <td>0.040404</td>\n",
       "      <td>0.134949</td>\n",
       "      <td>0.888485</td>\n",
       "      <td>2.679650</td>\n",
       "    </tr>\n",
       "    <tr>\n",
       "      <th>2</th>\n",
       "      <td>0.080808</td>\n",
       "      <td>0.829899</td>\n",
       "      <td>1.336970</td>\n",
       "      <td>2.968490</td>\n",
       "    </tr>\n",
       "    <tr>\n",
       "      <th>3</th>\n",
       "      <td>0.121212</td>\n",
       "      <td>1.524848</td>\n",
       "      <td>1.785455</td>\n",
       "      <td>3.254065</td>\n",
       "    </tr>\n",
       "    <tr>\n",
       "      <th>4</th>\n",
       "      <td>0.161616</td>\n",
       "      <td>2.219798</td>\n",
       "      <td>2.233939</td>\n",
       "      <td>3.536375</td>\n",
       "    </tr>\n",
       "  </tbody>\n",
       "</table>\n",
       "</div>"
      ],
      "text/plain": [
       "         X1        X2        X3         Y\n",
       "0  0.000000  3.440000  0.440000  4.387545\n",
       "1  0.040404  0.134949  0.888485  2.679650\n",
       "2  0.080808  0.829899  1.336970  2.968490\n",
       "3  0.121212  1.524848  1.785455  3.254065\n",
       "4  0.161616  2.219798  2.233939  3.536375"
      ]
     },
     "execution_count": 4,
     "metadata": {},
     "output_type": "execute_result"
    }
   ],
   "source": [
    "#Dataset display\n",
    "dataset.head() "
   ]
  },
  {
   "cell_type": "code",
   "execution_count": 5,
   "id": "919ea7e8-3f10-49f8-8303-bf1106b5e786",
   "metadata": {},
   "outputs": [
    {
     "name": "stdout",
     "output_type": "stream",
     "text": [
      "[3.44       0.1349495  0.82989899 1.52484848 2.21979798]\n"
     ]
    }
   ],
   "source": [
    "#Extracting and displaying a column froom the dataset\n",
    "x1 = dataset.iloc[:, 1]\n",
    "x1_t = x1.to_numpy()\n",
    "print(x1_t[: 5])"
   ]
  },
  {
   "cell_type": "code",
   "execution_count": 6,
   "id": "f4713a5e-7822-411e-a350-a27c1f87c7f9",
   "metadata": {},
   "outputs": [
    {
     "data": {
      "text/plain": [
       "100"
      ]
     },
     "execution_count": 6,
     "metadata": {},
     "output_type": "execute_result"
    }
   ],
   "source": [
    "#Length of the extracted column\n",
    "m = len(x1_t)\n",
    "m"
   ]
  },
  {
   "cell_type": "code",
   "execution_count": 7,
   "id": "d65d4b25-d60b-4eca-a7e1-1850d9bbe403",
   "metadata": {},
   "outputs": [],
   "source": [
    "#Making a column of ones, for x0 (as per the formula in class)\n",
    "x0_t = np.ones((100,1))"
   ]
  },
  {
   "cell_type": "code",
   "execution_count": 8,
   "id": "d6ac15b4-54e9-4198-bbaf-74ee779e2a8d",
   "metadata": {},
   "outputs": [
    {
     "name": "stdout",
     "output_type": "stream",
     "text": [
      "0    4.387545\n",
      "1    2.679650\n",
      "2    2.968490\n",
      "3    3.254065\n",
      "4    3.536375\n",
      "Name: Y, dtype: float64\n"
     ]
    }
   ],
   "source": [
    "#Extracting the ground truth values, y\n",
    "y = dataset.iloc[:, 3]\n",
    "y_t = y.to_numpy()\n",
    "print(y[: 5])"
   ]
  },
  {
   "cell_type": "code",
   "execution_count": 9,
   "id": "e412a586-f58c-492d-a633-77e246a69f0c",
   "metadata": {},
   "outputs": [
    {
     "data": {
      "text/plain": [
       "Text(0.5, 1.0, 'D3.csv')"
      ]
     },
     "execution_count": 9,
     "metadata": {},
     "output_type": "execute_result"
    },
    {
     "data": {
      "image/png": "[encoded data removed]",
      "text/plain": [
       "<Figure size 432x288 with 1 Axes>"
      ]
     },
     "metadata": {
      "needs_background": "light"
     },
     "output_type": "display_data"
    }
   ],
   "source": [
    "#Plot for the datapoints, against ground truth (Using matplotlib)\n",
    "plt.scatter(x1_t,y_t, color='purple',marker= '.') \n",
    "plt.grid() \n",
    "plt.rcParams[\"figure.figsize\"] = (10,6) \n",
    "plt.xlabel('X1') \n",
    "plt.ylabel('Y') \n",
    "plt.title('D3.csv') \n"
   ]
  },
  {
   "cell_type": "code",
   "execution_count": 10,
   "id": "9dc12b1e-bb95-47f0-bfaa-dbf7dd4c629a",
   "metadata": {},
   "outputs": [],
   "source": [
    "#Shaping the array into a m x 1 array of numbers\n",
    "x1_t = x1_t.reshape(m,1)"
   ]
  },
  {
   "cell_type": "code",
   "execution_count": 11,
   "id": "63d971ae-02d5-49fa-b32d-5539f21dcb01",
   "metadata": {},
   "outputs": [],
   "source": [
    "#combining x2 and x0, to make a matrix x, with dimensions [2,100]\n",
    "X = np.hstack((x0_t, x1_t)) "
   ]
  },
  {
   "cell_type": "code",
   "execution_count": 12,
   "id": "d34f5af4-b14c-4c9a-8eac-77394317ed16",
   "metadata": {},
   "outputs": [],
   "source": [
    "#Initializing the parameters as zero\n",
    "theta = np.zeros(2)  "
   ]
  },
  {
   "cell_type": "code",
   "execution_count": 13,
   "id": "dac3adfe-1658-47cf-a19c-d86173439351",
   "metadata": {},
   "outputs": [],
   "source": [
    "#Definition of the cost function (as per formulas in class)\n",
    "def compute_cost(X, y, theta): \n",
    "    #h = theta1.x1 + x0\n",
    "    h = X.dot(theta) \n",
    "    #Loss = h-y\n",
    "    j = np.subtract(h, y) \n",
    "    #For squared errors, squaring the individual loss function, j\n",
    "    j2 = np.square(j)\n",
    "    #J, the overall loss function : J = 1/2m (sum(square of individual errors))\n",
    "    J = 1 / (2 * m) * np.sum(j2) \n",
    " \n",
    "    return J \n",
    "\n",
    "cost = compute_cost(X, y, theta) "
   ]
  },
  {
   "cell_type": "code",
   "execution_count": 14,
   "id": "ea2b201b-275c-4b83-805f-33b40e26467f",
   "metadata": {},
   "outputs": [],
   "source": [
    "#Calculating the gradient descent, the process done to find the least value of all the cost functions  \n",
    "def gradient_descent(X, y, theta, alpha, iterations): \n",
    "    cost_history = np.zeros(iterations) \n",
    " \n",
    "    for i in range(iterations):\n",
    "        #h = theta1.x1 + x0\n",
    "        h = X.dot(theta) \n",
    "        #Loss = h-y\n",
    "        j = np.subtract(h, y)\n",
    "        #For the derivative of j wrt theta\n",
    "        sum_delta = (alpha / m) * X.transpose().dot(j); \n",
    "        #Updating the new theta\n",
    "        theta = theta - sum_delta; \n",
    "        #Saving it in the history array\n",
    "        cost_history[i] = compute_cost(X, y, theta)   \n",
    " \n",
    "    return theta, cost_history "
   ]
  },
  {
   "cell_type": "code",
   "execution_count": 15,
   "id": "9c2601a1-e148-4ad3-819c-4d2d45452b08",
   "metadata": {},
   "outputs": [],
   "source": [
    "theta = [0., 0.] \n",
    "iterations = 1500; \n",
    "alpha = 0.01 #Learning rate"
   ]
  },
  {
   "cell_type": "code",
   "execution_count": 16,
   "id": "00797777-c511-4d84-baf5-54e64313183b",
   "metadata": {},
   "outputs": [
    {
     "name": "stdout",
     "output_type": "stream",
     "text": [
      "Final value of theta = [0.71988473 0.56390334]\n",
      "cost_history = [5.29831663 5.09909109 4.92356115 ... 3.5993997  3.59939955 3.5993994 ]\n"
     ]
    }
   ],
   "source": [
    "theta, cost_history = gradient_descent(X, y, theta, alpha, iterations)\n",
    "print('Final value of theta =', theta) \n",
    "print('cost_history =', cost_history) "
   ]
  },
  {
   "cell_type": "code",
   "execution_count": 17,
   "id": "9607e99b-9a30-4606-8012-bf80ba20a5c8",
   "metadata": {},
   "outputs": [
    {
     "data": {
      "text/plain": [
       "<matplotlib.legend.Legend at 0x1d1049cdd30>"
      ]
     },
     "execution_count": 17,
     "metadata": {},
     "output_type": "execute_result"
    },
    {
     "data": {
      "image/png": "[encoded data removed]",
      "text/plain": [
       "<Figure size 720x432 with 1 Axes>"
      ]
     },
     "metadata": {
      "needs_background": "light"
     },
     "output_type": "display_data"
    }
   ],
   "source": [
    "#Plot for x vs y (datapoints vs ground truth)\n",
    "plt.scatter(X[:,1], y, color='red', marker= '+', label= 'Training Data') \n",
    "#Plot for x vs h (datapoints vs predictions)\n",
    "plt.plot(X[:,1],X.dot(theta), color='green', label='Linear Regression') \n",
    " \n",
    "plt.rcParams[\"figure.figsize\"] = (10,6) \n",
    "plt.grid() \n",
    "plt.xlabel('X') \n",
    "plt.ylabel('Y') \n",
    "plt.title('Linear Regression Fit') \n",
    "plt.legend() "
   ]
  },
  {
   "cell_type": "code",
   "execution_count": 18,
   "id": "ff8176a6-9217-4ffe-b713-5cf62c5d0b41",
   "metadata": {},
   "outputs": [
    {
     "data": {
      "text/plain": [
       "Text(0.5, 1.0, 'Convergence of gradient descent')"
      ]
     },
     "execution_count": 18,
     "metadata": {},
     "output_type": "execute_result"
    },
    {
     "data": {
      "image/png": "[encoded data removed]",
      "text/plain": [
       "<Figure size 720x432 with 1 Axes>"
      ]
     },
     "metadata": {
      "needs_background": "light"
     },
     "output_type": "display_data"
    }
   ],
   "source": [
    "#Plot for cost_history (gradient descent curve)\n",
    "plt.plot(range(1, iterations + 1),cost_history, color='purple') \n",
    "plt.rcParams[\"figure.figsize\"] = (10,6) \n",
    "plt.grid() \n",
    "plt.xlabel('Number of iterations') \n",
    "plt.ylabel('Cost (J)') \n",
    "plt.title('Convergence of gradient descent') "
   ]
  },
  {
   "cell_type": "code",
   "execution_count": 19,
   "id": "4580d071",
   "metadata": {},
   "outputs": [],
   "source": [
    "theta = [0., 0.] \n",
    "iterations = 1500; \n",
    "alpha = 0.05 #Learning rate"
   ]
  },
  {
   "cell_type": "code",
   "execution_count": 20,
   "id": "db3a0c4b",
   "metadata": {},
   "outputs": [
    {
     "name": "stdout",
     "output_type": "stream",
     "text": [
      "Final value of theta = [0.73606041 0.55760762]\n",
      "cost_history = [4.5369622  4.06234927 3.83409365 ... 3.59936602 3.59936602 3.59936602]\n"
     ]
    }
   ],
   "source": [
    "theta, cost_history = gradient_descent(X, y, theta, alpha, iterations)\n",
    "print('Final value of theta =', theta) \n",
    "print('cost_history =', cost_history) "
   ]
  },
  {
   "cell_type": "code",
   "execution_count": 21,
   "id": "693e43d1",
   "metadata": {},
   "outputs": [
    {
     "data": {
      "text/plain": [
       "Text(0.5, 1.0, 'Convergence of gradient descent')"
      ]
     },
     "execution_count": 21,
     "metadata": {},
     "output_type": "execute_result"
    },
    {
     "data": {
      "image/png": "[encoded data removed]",
      "text/plain": [
       "<Figure size 720x432 with 1 Axes>"
      ]
     },
     "metadata": {
      "needs_background": "light"
     },
     "output_type": "display_data"
    }
   ],
   "source": [
    "#Plot for cost_history (gradient descent curve)\n",
    "plt.plot(range(1, iterations + 1),cost_history, color='purple') \n",
    "plt.rcParams[\"figure.figsize\"] = (10,6) \n",
    "plt.grid() \n",
    "plt.xlabel('Number of iterations') \n",
    "plt.ylabel('Cost (J)') \n",
    "plt.title('Convergence of gradient descent') "
   ]
  },
  {
   "cell_type": "code",
   "execution_count": 22,
   "id": "b7e5c6ff",
   "metadata": {},
   "outputs": [],
   "source": [
    "theta = [0., 0.] \n",
    "iterations = 1500; \n",
    "alpha = 0.1 #Learning rate"
   ]
  },
  {
   "cell_type": "code",
   "execution_count": 23,
   "id": "0275cdee",
   "metadata": {},
   "outputs": [
    {
     "name": "stdout",
     "output_type": "stream",
     "text": [
      "Final value of theta = [0.73606043 0.55760761]\n",
      "cost_history = [3.90731819 3.66528504 3.62832072 ... 3.59936602 3.59936602 3.59936602]\n"
     ]
    }
   ],
   "source": [
    "theta, cost_history = gradient_descent(X, y, theta, alpha, iterations)\n",
    "print('Final value of theta =', theta) \n",
    "print('cost_history =', cost_history) "
   ]
  },
  {
   "cell_type": "code",
   "execution_count": 24,
   "id": "d6ca4306",
   "metadata": {},
   "outputs": [
    {
     "data": {
      "text/plain": [
       "Text(0.5, 1.0, 'Convergence of gradient descent')"
      ]
     },
     "execution_count": 24,
     "metadata": {},
     "output_type": "execute_result"
    },
    {
     "data": {
      "image/png": "[encoded data removed]",
      "text/plain": [
       "<Figure size 720x432 with 1 Axes>"
      ]
     },
     "metadata": {
      "needs_background": "light"
     },
     "output_type": "display_data"
    }
   ],
   "source": [
    "#Plot for cost_history (gradient descent curve)\n",
    "plt.plot(range(1, iterations + 1),cost_history, color='purple') \n",
    "plt.rcParams[\"figure.figsize\"] = (10,6) \n",
    "plt.grid() \n",
    "plt.xlabel('Number of iterations') \n",
    "plt.ylabel('Cost (J)') \n",
    "plt.title('Convergence of gradient descent') "
   ]
  }
 ],
 "metadata": {
  "kernelspec": {
   "display_name": "Python 3 (ipykernel)",
   "language": "python",
   "name": "python3"
  },
  "language_info": {
   "codemirror_mode": {
    "name": "ipython",
    "version": 3
   },
   "file_extension": ".py",
   "mimetype": "text/x-python",
   "name": "python",
   "nbconvert_exporter": "python",
   "pygments_lexer": "ipython3",
   "version": "3.9.7"
  }
 },
 "nbformat": 4,
 "nbformat_minor": 5
}
